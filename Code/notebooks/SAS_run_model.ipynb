{
 "cells": [
  {
   "cell_type": "markdown",
   "id": "ed718d14",
   "metadata": {},
   "source": [
    "# 0. Imports"
   ]
  },
  {
   "cell_type": "code",
   "execution_count": 3,
   "id": "a1ec636f",
   "metadata": {},
   "outputs": [],
   "source": [
    "import os\n",
    "import sys\n",
    "import numpy as np\n",
    "%load_ext autoreload\n",
    "%autoreload 2\n",
    "\n",
    "git_dir = r\"C:\\Werk\\Projecten\\P1414_ROI\\Github_P1414\\P1414\"\n",
    "sys.path.append(os.path.join(git_dir, 'Code'))\n",
    "sys.path.append(os.path.join(git_dir, 'HydroLogic_Inundation_toolbox'))\n",
    "sys.path.append(os.path.join(git_dir, 'HydroLogic_Inundation_toolbox/Readers'))"
   ]
  },
  {
   "cell_type": "markdown",
   "id": "340276cd",
   "metadata": {},
   "source": [
    "# 1. Model specifications "
   ]
  },
  {
   "cell_type": "markdown",
   "id": "13bde66f",
   "metadata": {},
   "source": [
    "## 1.1. Select basemodel"
   ]
  },
  {
   "cell_type": "code",
   "execution_count": 4,
   "id": "87885da0",
   "metadata": {},
   "outputs": [
    {
     "data": {
      "application/vnd.jupyter.widget-view+json": {
       "model_id": "3525fea845544bb481cf527780cedc7e",
       "version_major": 2,
       "version_minor": 0
      },
      "text/plain": [
       "VBox(children=(Text(value='D:\\\\work\\\\Project\\\\P1414\\\\Models_SAS\\\\Model_database', description='Path to folder …"
      ]
     },
     "metadata": {},
     "output_type": "display_data"
    },
    {
     "data": {
      "application/vnd.jupyter.widget-view+json": {
       "model_id": "d13040dcb52049788b1b86bcf6a631c3",
       "version_major": 2,
       "version_minor": 0
      },
      "text/plain": [
       "Button(description='Update settings', layout=Layout(height='35px', width='99%'), style=ButtonStyle(button_colo…"
      ]
     },
     "metadata": {},
     "output_type": "display_data"
    },
    {
     "data": {
      "application/vnd.jupyter.widget-view+json": {
       "model_id": "d26a55d148014a3b8be6fd376c4250f8",
       "version_major": 2,
       "version_minor": 0
      },
      "text/plain": [
       "Output()"
      ]
     },
     "metadata": {},
     "output_type": "display_data"
    },
    {
     "data": {
      "text/plain": [
       "'Model settings are:'"
      ]
     },
     "metadata": {},
     "output_type": "display_data"
    },
    {
     "name": "stdout",
     "output_type": "stream",
     "text": [
      "{\n",
      "    \"folder\": \"D:\\\\work\\\\Project\\\\P1414\\\\Models_SAS\\\\Model_database\",\n",
      "    \"model\": \"V14_krimpenerwaard_v7\",\n",
      "    \"scenario_name\": \"test\"\n",
      "}\n"
     ]
    }
   ],
   "source": [
    "from notebooks.background_scripting.v1.select_basemodel import ModelSettings\n",
    "\n",
    "model_settings = ModelSettings()\n",
    "model_settings.display_widgets()"
   ]
  },
  {
   "cell_type": "markdown",
   "id": "46132461",
   "metadata": {},
   "source": [
    "## 1.2. Model settings"
   ]
  },
  {
   "cell_type": "code",
   "execution_count": 13,
   "id": "e406ef18",
   "metadata": {},
   "outputs": [
    {
     "data": {
      "application/vnd.jupyter.widget-view+json": {
       "model_id": "458b0ce5063f458cae684ec874b964b1",
       "version_major": 2,
       "version_minor": 0
      },
      "text/plain": [
       "VBox(children=(IntText(value=0, description='Model start time (tStart in hours):', layout=Layout(margin='5px',…"
      ]
     },
     "metadata": {},
     "output_type": "display_data"
    },
    {
     "data": {
      "application/vnd.jupyter.widget-view+json": {
       "model_id": "db396f65378b4051aa005be9625e152a",
       "version_major": 2,
       "version_minor": 0
      },
      "text/plain": [
       "Button(description='Update settings', layout=Layout(height='35px', width='99%'), style=ButtonStyle(button_colo…"
      ]
     },
     "metadata": {},
     "output_type": "display_data"
    },
    {
     "data": {
      "application/vnd.jupyter.widget-view+json": {
       "model_id": "7befb277514b422494f0471cccbbc618",
       "version_major": 2,
       "version_minor": 0
      },
      "text/plain": [
       "Output()"
      ]
     },
     "metadata": {},
     "output_type": "display_data"
    },
    {
     "data": {
      "text/plain": [
       "'MDU settings are:'"
      ]
     },
     "metadata": {},
     "output_type": "display_data"
    },
    {
     "name": "stdout",
     "output_type": "stream",
     "text": [
      "{\n",
      "    \"tStart\": 0.0,\n",
      "    \"tStop\": 24.0,\n",
      "    \"mapInterval\": 60.0,\n",
      "    \"DHYDRO location\": \"C:\\\\Program Files\\\\Deltares\\\\D-HYDRO Suite 2023.01 1D2D\\\\plugins\\\\DeltaShell.Dimr\\\\kernels\\\\x64\\\\dimr\\\\scripts\\\\run_dimr.bat\"\n",
      "}\n"
     ]
    }
   ],
   "source": [
    "import shutil\n",
    "from notebooks.background_scripting.v1.modify_mdu import ModifyMDU, copy_model\n",
    "\n",
    "model_path = copy_model(os.path.join(model_settings.settings['folder'], model_settings.settings['model']), model_settings.settings['scenario_name'])\n",
    "modify_mdu = ModifyMDU(model_path)\n",
    "modify_mdu.display_widgets()"
   ]
  },
  {
   "cell_type": "markdown",
   "id": "4c3f65d8",
   "metadata": {},
   "source": [
    "## 1.3. Dambreak location"
   ]
  },
  {
   "cell_type": "code",
   "execution_count": 19,
   "id": "a74f04d5",
   "metadata": {},
   "outputs": [
    {
     "data": {
      "application/vnd.jupyter.widget-view+json": {
       "model_id": "861ca6ba3c8c46e7930c3d1209ee6bf7",
       "version_major": 2,
       "version_minor": 0
      },
      "text/plain": [
       "Map(center=[51.97071128675681, 4.64000701904297], controls=(ZoomControl(options=['position', 'zoom_in_text', '…"
      ]
     },
     "metadata": {},
     "output_type": "display_data"
    },
    {
     "data": {
      "application/vnd.jupyter.widget-view+json": {
       "model_id": "663160fa9d0342d1a7b9e422d0128bab",
       "version_major": 2,
       "version_minor": 0
      },
      "text/plain": [
       "HTML(value='<b style=\"color:black;font-size:18px;\">Done! Inspect your results (4/4) </b>')"
      ]
     },
     "metadata": {},
     "output_type": "display_data"
    },
    {
     "data": {
      "application/vnd.jupyter.widget-view+json": {
       "model_id": "7c1c6d3d38594e88a7f0fd7b2bc39897",
       "version_major": 2,
       "version_minor": 0
      },
      "text/plain": [
       "Image(value=b'\\x89PNG\\r\\n\\x1a\\n\\x00\\x00\\x00\\rIHDR\\x00\\x00\\x05\\xdc\\x00\\x00\\x03\\x84\\x08\\x03\\x00\\x00\\x00\\x8c\\xe6\\…"
      ]
     },
     "metadata": {},
     "output_type": "display_data"
    }
   ],
   "source": [
    "from notebooks.background_scripting.v1.modify_dambreak_v2 import DambreachWidget\n",
    "\n",
    "dambreakwidget = DambreakWidget(model_path)\n",
    "dambreakwidget.draw_map()"
   ]
  },
  {
   "cell_type": "markdown",
   "id": "57e82268",
   "metadata": {},
   "source": [
    "## 1.4. Dambreak settings"
   ]
  },
  {
   "cell_type": "code",
   "execution_count": 23,
   "id": "f3989184",
   "metadata": {},
   "outputs": [
    {
     "data": {
      "application/vnd.jupyter.widget-view+json": {
       "model_id": "e67a41e1127f46f18a1da99ebc77cb8f",
       "version_major": 2,
       "version_minor": 0
      },
      "text/plain": [
       "VBox(children=(FloatText(value=-1.0, description='Initial crest level of dambreach (crestLevelIni):', layout=L…"
      ]
     },
     "metadata": {},
     "output_type": "display_data"
    },
    {
     "data": {
      "application/vnd.jupyter.widget-view+json": {
       "model_id": "db34d6de549542dcaf47acff014a92f3",
       "version_major": 2,
       "version_minor": 0
      },
      "text/plain": [
       "Button(description='Update settings', layout=Layout(height='35px', width='99%'), style=ButtonStyle(button_colo…"
      ]
     },
     "metadata": {},
     "output_type": "display_data"
    },
    {
     "data": {
      "application/vnd.jupyter.widget-view+json": {
       "model_id": "d645617a5a764c3db986ab2e80349e99",
       "version_major": 2,
       "version_minor": 0
      },
      "text/plain": [
       "Output()"
      ]
     },
     "metadata": {},
     "output_type": "display_data"
    },
    {
     "data": {
      "text/plain": [
       "'Dambreak settings are:'"
      ]
     },
     "metadata": {},
     "output_type": "display_data"
    },
    {
     "name": "stdout",
     "output_type": "stream",
     "text": [
      "{\n",
      "    \"crestLevelIni\": -1.0,\n",
      "    \"t0\": 4.0,\n",
      "    \"timeToBreachToMaximumDepth\": 360.0,\n",
      "    \"crestLevelMin\": -2.0,\n",
      "    \"breachWidthIni\": 5.0,\n",
      "    \"f1\": 1.3,\n",
      "    \"f2\": 0.04,\n",
      "    \"uCrit\": 0.2\n",
      "}\n"
     ]
    }
   ],
   "source": [
    "from notebooks.background_scripting.v1.modify_dambreak_v2 import ModifyDambreak\n",
    "\n",
    "add_dambreak = ModifyDambreak(model_path, dambreakwidget.settings, dambreakwidget.keringen)\n",
    "add_dambreak.display_widgets()"
   ]
  },
  {
   "cell_type": "markdown",
   "id": "7dcf0ada",
   "metadata": {},
   "source": [
    "## 1.5. Boundary conditions"
   ]
  },
  {
   "cell_type": "code",
   "execution_count": 27,
   "id": "1fd54a0e",
   "metadata": {},
   "outputs": [
    {
     "data": {
      "application/vnd.jupyter.widget-view+json": {
       "model_id": "a55659c83ce0401d94d230567d404b8a",
       "version_major": 2,
       "version_minor": 0
      },
      "text/plain": [
       "VBox(children=(FloatText(value=0.0, description='Waterlevel North Sea', layout=Layout(margin='5px', width='95%…"
      ]
     },
     "metadata": {},
     "output_type": "display_data"
    },
    {
     "data": {
      "application/vnd.jupyter.widget-view+json": {
       "model_id": "0734efa2d9d349ce95497f8a7b91e196",
       "version_major": 2,
       "version_minor": 0
      },
      "text/plain": [
       "Button(description='Update settings', layout=Layout(height='35px', width='99%'), style=ButtonStyle(button_colo…"
      ]
     },
     "metadata": {},
     "output_type": "display_data"
    },
    {
     "data": {
      "application/vnd.jupyter.widget-view+json": {
       "model_id": "b7d49969028c4bcea60312375f1d2645",
       "version_major": 2,
       "version_minor": 0
      },
      "text/plain": [
       "Output()"
      ]
     },
     "metadata": {},
     "output_type": "display_data"
    },
    {
     "data": {
      "image/png": "[encoded data removed]",
      "text/plain": [
       "<Figure size 1300x500 with 1 Axes>"
      ]
     },
     "metadata": {},
     "output_type": "display_data"
    }
   ],
   "source": [
    "from notebooks.background_scripting.v1.modify_boundaries import ModifyBoundaries, ModifyRhineDischarge\n",
    "\n",
    "modify_boundaries = ModifyBoundaries(model_path, modify_mdu.settings, add_dambreak.dambreak_settings)\n",
    "modify_boundaries.display_widgets()"
   ]
  },
  {
   "cell_type": "markdown",
   "id": "39eeb01c",
   "metadata": {},
   "source": [
    "# 2. Run Model"
   ]
  },
  {
   "cell_type": "code",
   "execution_count": null,
   "id": "385df13e",
   "metadata": {},
   "outputs": [],
   "source": [
    "from notebooks.background_scripting.v1.model_runner import ModelRunner\n",
    "model_path = r\"D:\\work\\Project\\P1414\\Models_SAS\\Model_runs\\demo\"\n",
    "model_runner = ModelRunner(model_path)\n",
    "model_runner.display_widgets()"
   ]
  },
  {
   "cell_type": "markdown",
   "id": "2a752357",
   "metadata": {},
   "source": [
    "# 3. Post processing"
   ]
  },
  {
   "cell_type": "markdown",
   "id": "41a32336",
   "metadata": {},
   "source": [
    "## 3.1. Plot map"
   ]
  },
  {
   "cell_type": "code",
   "execution_count": null,
   "id": "e9568659",
   "metadata": {},
   "outputs": [],
   "source": [
    "from notebooks.background_scripting.v1.post_processing import PlotSettingsMap, MapPlotter\n",
    "\n",
    "output_path = os.path.join(model_path, 'dflowfm\\DFM_OUTPUT_test')\n",
    "plot_settings = PlotSettingsMap(output_path)\n",
    "plot_settings.display_widgets()"
   ]
  },
  {
   "cell_type": "markdown",
   "id": "36aeff79",
   "metadata": {},
   "source": [
    "## 3.2. Plot dambreak"
   ]
  },
  {
   "cell_type": "code",
   "execution_count": null,
   "id": "276da90f",
   "metadata": {},
   "outputs": [],
   "source": [
    "from notebooks.background_scripting.v1.post_processing import PlotSettingsBreach, BreachPlotter\n",
    "\n",
    "model_path = r\"D:\\work\\Project\\P1414\\Models_SAS\\Model_runs\\test_breach\"\n",
    "output_path = os.path.join(model_path, 'dflowfm\\DFM_OUTPUT_test')\n",
    "plot_settings = PlotSettingsBreach(output_path)\n",
    "plot_settings.display_widgets()\n",
    "\n"
   ]
  }
 ],
 "metadata": {
  "kernelspec": {
   "display_name": "Python 3 (ipykernel)",
   "language": "python",
   "name": "python3"
  },
  "language_info": {
   "codemirror_mode": {
    "name": "ipython",
    "version": 3
   },
   "file_extension": ".py",
   "mimetype": "text/x-python",
   "name": "python",
   "nbconvert_exporter": "python",
   "pygments_lexer": "ipython3",
   "version": "3.10.10"
  }
 },
 "nbformat": 4,
 "nbformat_minor": 5
}
