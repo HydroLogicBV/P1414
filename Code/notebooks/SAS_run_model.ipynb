{
 "cells": [
  {
   "cell_type": "markdown",
   "id": "ed718d14",
   "metadata": {},
   "source": [
    "# 0. Imports"
   ]
  },
  {
   "cell_type": "code",
   "execution_count": 18,
   "id": "a1ec636f",
   "metadata": {},
   "outputs": [
    {
     "name": "stdout",
     "output_type": "stream",
     "text": [
      "The autoreload extension is already loaded. To reload it, use:\n",
      "  %reload_ext autoreload\n"
     ]
    }
   ],
   "source": [
    "import os\n",
    "import sys\n",
    "import numpy as np\n",
    "%load_ext autoreload\n",
    "%autoreload 2\n",
    "\n",
    "git_dir = r\"C:\\Werk\\Projecten\\P1414_ROI\\Github_P1414\\P1414\"\n",
    "sys.path.append(os.path.join(git_dir, 'Code'))\n",
    "sys.path.append(os.path.join(git_dir, 'HydroLogic_Inundation_toolbox'))\n",
    "sys.path.append(os.path.join(git_dir, 'HydroLogic_Inundation_toolbox/Readers'))"
   ]
  },
  {
   "cell_type": "markdown",
   "id": "340276cd",
   "metadata": {},
   "source": [
    "# 1. Model specifications "
   ]
  },
  {
   "cell_type": "markdown",
   "id": "13bde66f",
   "metadata": {},
   "source": [
    "## 1.1. Select basemodel"
   ]
  },
  {
   "cell_type": "code",
   "execution_count": 8,
   "id": "87885da0",
   "metadata": {},
   "outputs": [
    {
     "data": {
      "application/vnd.jupyter.widget-view+json": {
       "model_id": "851c6bf644894e3699b649c065e8e4e4",
       "version_major": 2,
       "version_minor": 0
      },
      "text/plain": [
       "VBox(children=(Text(value='D:\\\\work\\\\Project\\\\P1414\\\\Models_SAS\\\\Model_database', description='Path to folder …"
      ]
     },
     "metadata": {},
     "output_type": "display_data"
    },
    {
     "data": {
      "application/vnd.jupyter.widget-view+json": {
       "model_id": "ae76ace6db554796924b84ac42b0ac2e",
       "version_major": 2,
       "version_minor": 0
      },
      "text/plain": [
       "Button(description='Update settings', layout=Layout(height='35px', width='99%'), style=ButtonStyle(button_colo…"
      ]
     },
     "metadata": {},
     "output_type": "display_data"
    },
    {
     "data": {
      "application/vnd.jupyter.widget-view+json": {
       "model_id": "4559fef0eadb4100879b2adbf9f1971c",
       "version_major": 2,
       "version_minor": 0
      },
      "text/plain": [
       "Output()"
      ]
     },
     "metadata": {},
     "output_type": "display_data"
    },
    {
     "data": {
      "text/plain": [
       "'Model settings are:'"
      ]
     },
     "metadata": {},
     "output_type": "display_data"
    },
    {
     "name": "stdout",
     "output_type": "stream",
     "text": [
      "{\n",
      "    \"folder\": \"D:\\\\work\\\\Project\\\\P1414\\\\Models_SAS\\\\Model_database\",\n",
      "    \"model\": \"V16_HHR\",\n",
      "    \"scenario_name\": \"run\"\n",
      "}\n"
     ]
    }
   ],
   "source": [
    "from notebooks.background_scripting.v1.select_basemodel import ModelSettings\n",
    "\n",
    "model_settings = ModelSettings()\n",
    "model_settings.display_widgets()"
   ]
  },
  {
   "cell_type": "markdown",
   "id": "46132461",
   "metadata": {},
   "source": [
    "## 1.2. Model settings"
   ]
  },
  {
   "cell_type": "code",
   "execution_count": 32,
   "id": "e406ef18",
   "metadata": {},
   "outputs": [
    {
     "data": {
      "application/vnd.jupyter.widget-view+json": {
       "model_id": "bff67a3c176e435ea3416c85e140034d",
       "version_major": 2,
       "version_minor": 0
      },
      "text/plain": [
       "VBox(children=(IntText(value=0, description='Model start time (tStart in hours):', layout=Layout(margin='5px',…"
      ]
     },
     "metadata": {},
     "output_type": "display_data"
    },
    {
     "data": {
      "application/vnd.jupyter.widget-view+json": {
       "model_id": "71fc066622a047aea6fdcee6c72957c8",
       "version_major": 2,
       "version_minor": 0
      },
      "text/plain": [
       "Button(description='Update settings', layout=Layout(height='35px', width='99%'), style=ButtonStyle(button_colo…"
      ]
     },
     "metadata": {},
     "output_type": "display_data"
    },
    {
     "data": {
      "application/vnd.jupyter.widget-view+json": {
       "model_id": "afae16e5f4fb41aaa1b7e01bf7fa33c1",
       "version_major": 2,
       "version_minor": 0
      },
      "text/plain": [
       "Output()"
      ]
     },
     "metadata": {},
     "output_type": "display_data"
    },
    {
     "data": {
      "text/plain": [
       "'MDU settings are:'"
      ]
     },
     "metadata": {},
     "output_type": "display_data"
    },
    {
     "name": "stdout",
     "output_type": "stream",
     "text": [
      "{\n",
      "    \"tStart\": 0.0,\n",
      "    \"tStop\": 168.0,\n",
      "    \"mapInterval\": 20.0,\n",
      "    \"DHYDRO location\": \"C:\\\\Program Files\\\\Deltares\\\\D-HYDRO Suite 2023.01 1D2D\\\\plugins\\\\DeltaShell.Dimr\\\\kernels\\\\x64\\\\dimr\\\\scripts\\\\run_dimr.bat\"\n",
      "}\n"
     ]
    }
   ],
   "source": [
    "import shutil\n",
    "from notebooks.background_scripting.v1.modify_mdu import ModifyMDU, copy_model\n",
    "\n",
    "# model_path = copy_model(os.path.join(model_settings.settings['folder'], model_settings.settings['model']), model_settings.settings['scenario_name'])\n",
    "modify_mdu = ModifyMDU(model_path)\n",
    "modify_mdu.display_widgets()"
   ]
  },
  {
   "cell_type": "markdown",
   "id": "4c3f65d8",
   "metadata": {},
   "source": [
    "## 1.3. Dambreak location"
   ]
  },
  {
   "cell_type": "code",
   "execution_count": 37,
   "id": "a74f04d5",
   "metadata": {},
   "outputs": [
    {
     "data": {
      "application/vnd.jupyter.widget-view+json": {
       "model_id": "e5962de179bd462fbac5285429413b53",
       "version_major": 2,
       "version_minor": 0
      },
      "text/plain": [
       "Map(center=[51.97018251148096, 4.650818789646372], controls=(ZoomControl(options=['position', 'zoom_in_text', …"
      ]
     },
     "metadata": {},
     "output_type": "display_data"
    },
    {
     "data": {
      "application/vnd.jupyter.widget-view+json": {
       "model_id": "0f42d52ed66c410daf58d8aa81f75945",
       "version_major": 2,
       "version_minor": 0
      },
      "text/plain": [
       "HTML(value='<b style=\"color:black;font-size:18px;\">Done! Inspect your results (4/4) </b>')"
      ]
     },
     "metadata": {},
     "output_type": "display_data"
    },
    {
     "data": {
      "application/vnd.jupyter.widget-view+json": {
       "model_id": "4861d9e354c04655ac1be8567f4f756a",
       "version_major": 2,
       "version_minor": 0
      },
      "text/plain": [
       "Image(value=b'\\x89PNG\\r\\n\\x1a\\n\\x00\\x00\\x00\\rIHDR\\x00\\x00\\x05\\xdc\\x00\\x00\\x03\\x84\\x08\\x03\\x00\\x00\\x00\\x8c\\xe6\\…"
      ]
     },
     "metadata": {},
     "output_type": "display_data"
    }
   ],
   "source": [
    "from notebooks.background_scripting.v1.modify_dambreak_v2 import DambreachWidget\n",
    "\n",
    "dambreachkWidget = DambreachWidget(model_path)\n",
    "dambreachkWidget.draw_map()"
   ]
  },
  {
   "cell_type": "markdown",
   "id": "57e82268",
   "metadata": {},
   "source": [
    "## 1.4. Dambreak settings"
   ]
  },
  {
   "cell_type": "code",
   "execution_count": 38,
   "id": "f3989184",
   "metadata": {},
   "outputs": [
    {
     "data": {
      "application/vnd.jupyter.widget-view+json": {
       "model_id": "b10d4838ef6f45d385a66af32cbf9a63",
       "version_major": 2,
       "version_minor": 0
      },
      "text/plain": [
       "VBox(children=(FloatText(value=-2.0, description='Initial crest level of dambreach (crestLevelIni):', layout=L…"
      ]
     },
     "metadata": {},
     "output_type": "display_data"
    },
    {
     "data": {
      "application/vnd.jupyter.widget-view+json": {
       "model_id": "e79d95e16e9544b9994809d498e36eee",
       "version_major": 2,
       "version_minor": 0
      },
      "text/plain": [
       "Button(description='Update settings', layout=Layout(height='35px', width='99%'), style=ButtonStyle(button_colo…"
      ]
     },
     "metadata": {},
     "output_type": "display_data"
    },
    {
     "data": {
      "application/vnd.jupyter.widget-view+json": {
       "model_id": "30c75a8c89174f9a9df376d265580d8a",
       "version_major": 2,
       "version_minor": 0
      },
      "text/plain": [
       "Output()"
      ]
     },
     "metadata": {},
     "output_type": "display_data"
    },
    {
     "data": {
      "text/plain": [
       "'Dambreak settings are:'"
      ]
     },
     "metadata": {},
     "output_type": "display_data"
    },
    {
     "name": "stdout",
     "output_type": "stream",
     "text": [
      "{\n",
      "    \"crestLevelIni\": -2.0,\n",
      "    \"t0\": 0.0,\n",
      "    \"timeToBreachToMaximumDepth\": 360.0,\n",
      "    \"crestLevelMin\": -2.0,\n",
      "    \"breachWidthIni\": 5.0,\n",
      "    \"f1\": 1.3,\n",
      "    \"f2\": 0.04,\n",
      "    \"uCrit\": 0.2\n",
      "}\n"
     ]
    }
   ],
   "source": [
    "from notebooks.background_scripting.v1.modify_dambreak_v2 import ModifyDambreak\n",
    "\n",
    "add_dambreak = ModifyDambreak(model_path, dambreachkWidget.settings, dambreachkWidget.keringen)\n",
    "add_dambreak.display_widgets()"
   ]
  },
  {
   "cell_type": "markdown",
   "id": "7dcf0ada",
   "metadata": {},
   "source": [
    "## 1.5. Boundary conditions"
   ]
  },
  {
   "cell_type": "code",
   "execution_count": 46,
   "id": "1fd54a0e",
   "metadata": {},
   "outputs": [
    {
     "data": {
      "application/vnd.jupyter.widget-view+json": {
       "model_id": "37ed14c838a54cff83cd57cde6476df9",
       "version_major": 2,
       "version_minor": 0
      },
      "text/plain": [
       "VBox(children=(FloatText(value=4.0, description='Waterlevel North Sea', layout=Layout(margin='5px', width='95%…"
      ]
     },
     "metadata": {},
     "output_type": "display_data"
    },
    {
     "data": {
      "application/vnd.jupyter.widget-view+json": {
       "model_id": "35ce68fd0991403cbde7373d76e7b43d",
       "version_major": 2,
       "version_minor": 0
      },
      "text/plain": [
       "Button(description='Update settings', layout=Layout(height='35px', width='99%'), style=ButtonStyle(button_colo…"
      ]
     },
     "metadata": {},
     "output_type": "display_data"
    },
    {
     "data": {
      "application/vnd.jupyter.widget-view+json": {
       "model_id": "a889c1d6b4b746bc81182b84c588a221",
       "version_major": 2,
       "version_minor": 0
      },
      "text/plain": [
       "Output()"
      ]
     },
     "metadata": {},
     "output_type": "display_data"
    },
    {
     "data": {
      "text/plain": [
       "'Boundary conditions are:'"
      ]
     },
     "metadata": {},
     "output_type": "display_data"
    },
    {
     "name": "stdout",
     "output_type": "stream",
     "text": [
      "{\n",
      "    \"Waterlevel North Sea\": 4.0,\n",
      "    \"Waterlevel Markermeer\": 0.0,\n",
      "    \"Rhine basic discharge\": 5000.0,\n",
      "    \"Rhine peak discharge\": 20000.0,\n",
      "    \"Rhine event start\": 0.0,\n",
      "    \"Rhine event duration\": 86400.0\n",
      "}\n"
     ]
    },
    {
     "data": {
      "image/png": "[encoded data removed]",
      "text/plain": [
       "<Figure size 1300x500 with 1 Axes>"
      ]
     },
     "metadata": {},
     "output_type": "display_data"
    }
   ],
   "source": [
    "from notebooks.background_scripting.v1.modify_boundaries import ModifyBoundaries, ModifyRhineDischarge\n",
    "\n",
    "modify_boundaries = ModifyBoundaries(model_path, modify_mdu.settings, add_dambreak.dambreak_settings)\n",
    "modify_boundaries.display_widgets()"
   ]
  },
  {
   "cell_type": "markdown",
   "id": "39eeb01c",
   "metadata": {},
   "source": [
    "# 2. Run Model"
   ]
  },
  {
   "cell_type": "code",
   "execution_count": 47,
   "id": "385df13e",
   "metadata": {},
   "outputs": [
    {
     "data": {
      "application/vnd.jupyter.widget-view+json": {
       "model_id": "0d53d4036bba40de8039037c23eabb19",
       "version_major": 2,
       "version_minor": 0
      },
      "text/plain": [
       "Button(description='Run model!', layout=Layout(height='35px', width='99%'), style=ButtonStyle(button_color='#3…"
      ]
     },
     "metadata": {},
     "output_type": "display_data"
    },
    {
     "data": {
      "application/vnd.jupyter.widget-view+json": {
       "model_id": "3cdfa46e4a6d404bbdeef9b5794383d2",
       "version_major": 2,
       "version_minor": 0
      },
      "text/plain": [
       "Output()"
      ]
     },
     "metadata": {},
     "output_type": "display_data"
    },
    {
     "data": {
      "application/vnd.jupyter.widget-view+json": {
       "model_id": "0b7020f6d55e4192858efce5d7f20cea",
       "version_major": 2,
       "version_minor": 0
      },
      "text/plain": [
       "VBox(children=(FloatProgress(value=0.0, layout=Layout(width='99%'), style=ProgressStyle(description_width='ini…"
      ]
     },
     "metadata": {},
     "output_type": "display_data"
    }
   ],
   "source": [
    "from notebooks.background_scripting.v1.model_runner import ModelRunner\n",
    "\n",
    "model_runner = ModelRunner(model_path)\n",
    "model_runner.display_widgets()"
   ]
  },
  {
   "cell_type": "markdown",
   "id": "2a752357",
   "metadata": {},
   "source": [
    "# 3. Post processing"
   ]
  },
  {
   "cell_type": "markdown",
   "id": "41a32336",
   "metadata": {},
   "source": [
    "## 3.1. Plot map"
   ]
  },
  {
   "cell_type": "code",
   "execution_count": null,
   "id": "e9568659",
   "metadata": {},
   "outputs": [],
   "source": [
    "from notebooks.background_scripting.v1.post_processing import PlotSettingsMap, MapPlotter\n",
    "\n",
    "output_path = os.path.join(model_path, 'dflowfm\\DFM_OUTPUT_test')\n",
    "plot_settings = PlotSettingsMap(output_path)\n",
    "plot_settings.display_widgets()"
   ]
  },
  {
   "cell_type": "markdown",
   "id": "36aeff79",
   "metadata": {},
   "source": [
    "## 3.2. Plot dambreak"
   ]
  },
  {
   "cell_type": "code",
   "execution_count": null,
   "id": "276da90f",
   "metadata": {},
   "outputs": [],
   "source": [
    "from notebooks.background_scripting.v1.post_processing import PlotSettingsBreach, BreachPlotter\n",
    "\n",
    "\n",
    "output_path = os.path.join(model_path, 'dflowfm\\DFM_OUTPUT_test')\n",
    "plot_settings = PlotSettingsBreach(output_path)\n",
    "plot_settings.display_widgets()\n",
    "\n"
   ]
  }
 ],
 "metadata": {
  "kernelspec": {
   "display_name": "Python 3 (ipykernel)",
   "language": "python",
   "name": "python3"
  },
  "language_info": {
   "codemirror_mode": {
    "name": "ipython",
    "version": 3
   },
   "file_extension": ".py",
   "mimetype": "text/x-python",
   "name": "python",
   "nbconvert_exporter": "python",
   "pygments_lexer": "ipython3",
   "version": "3.10.10"
  }
 },
 "nbformat": 4,
 "nbformat_minor": 5
}
