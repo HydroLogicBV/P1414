{
 "cells": [
  {
   "cell_type": "markdown",
   "id": "ed718d14",
   "metadata": {},
   "source": [
    "# 0. Imports\n",
    "Pas in deze cel de variabele **git_dir** aan naar de map met code"
   ]
  },
  {
   "cell_type": "code",
   "execution_count": 1,
   "id": "a1ec636f",
   "metadata": {},
   "outputs": [
    {
     "name": "stdout",
     "output_type": "stream",
     "text": [
      "Imports are succesfull!\n"
     ]
    }
   ],
   "source": [
    "import os\n",
    "import sys\n",
    "import numpy as np\n",
    "%load_ext autoreload\n",
    "%autoreload 2\n",
    "\n",
    "git_dir = r\"D:\\Work\\git\\GIS_tools\"\n",
    "sys.path.append(os.path.join(git_dir, 'Code'))\n",
    "sys.path.append(os.path.join(git_dir, 'HydroLogic_Inundation_toolbox'))\n",
    "sys.path.append(os.path.join(git_dir, 'HydroLogic_Inundation_toolbox/Readers'))\n",
    "\n",
    "from notebooks.background_scripting.v1.test_connection import TestConnection\n",
    "test_connection = TestConnection()"
   ]
  },
  {
   "cell_type": "markdown",
   "id": "340276cd",
   "metadata": {},
   "source": [
    "# 1. Model specifications \n",
    "In deze stap wordt het model geselecteerd en geconfigureerd"
   ]
  },
  {
   "cell_type": "markdown",
   "id": "13bde66f",
   "metadata": {},
   "source": [
    "## 1.1. Select basemodel\n",
    "In path to folder with models staat de map waar de modellen zich bevinden. Door vervolgens op update settings te klikken kan een model geselecteerd worden. Eindig altijd door (wederom) op update settings te klikken"
   ]
  },
  {
   "cell_type": "code",
   "execution_count": 2,
   "id": "87885da0",
   "metadata": {},
   "outputs": [
    {
     "data": {
      "application/vnd.jupyter.widget-view+json": {
       "model_id": "177bff78b14042a1a4742fe4b1d95740",
       "version_major": 2,
       "version_minor": 0
      },
      "text/plain": [
       "VBox(children=(Text(value='D:\\\\Work\\\\Project\\\\P1414\\\\Models\\\\Combined', description='Path to folder with model…"
      ]
     },
     "metadata": {},
     "output_type": "display_data"
    },
    {
     "data": {
      "application/vnd.jupyter.widget-view+json": {
       "model_id": "9d079cb4a896415990496fe313e8f3da",
       "version_major": 2,
       "version_minor": 0
      },
      "text/plain": [
       "Button(description='Update settings', layout=Layout(height='35px', width='99%'), style=ButtonStyle(button_colo…"
      ]
     },
     "metadata": {},
     "output_type": "display_data"
    },
    {
     "data": {
      "application/vnd.jupyter.widget-view+json": {
       "model_id": "9738d356984d4e8b89cbf9a78dc28d60",
       "version_major": 2,
       "version_minor": 0
      },
      "text/plain": [
       "Output()"
      ]
     },
     "metadata": {},
     "output_type": "display_data"
    },
    {
     "data": {
      "text/plain": [
       "'Model settings are:'"
      ]
     },
     "metadata": {},
     "output_type": "display_data"
    },
    {
     "name": "stdout",
     "output_type": "stream",
     "text": [
      "{\n",
      "    \"folder\": \"D:\\\\Work\\\\Project\\\\P1414\\\\Models\\\\Combined\",\n",
      "    \"model\": \"V20_WBD_v1_simulated\",\n",
      "    \"scenario_name\": \"run\"\n",
      "}\n"
     ]
    }
   ],
   "source": [
    "from notebooks.background_scripting.v1.select_basemodel import ModelSettings\n",
    "\n",
    "model_settings = ModelSettings()\n",
    "model_settings.display_widgets()"
   ]
  },
  {
   "cell_type": "markdown",
   "id": "46132461",
   "metadata": {},
   "source": [
    "## 1.2. Model settings\n",
    "Vul in dit blok de start en eindtijd van het model in, evenals het interval voor _map.nc bestanden en de D-HYDRO versie"
   ]
  },
  {
   "cell_type": "code",
   "execution_count": 3,
   "id": "e406ef18",
   "metadata": {},
   "outputs": [
    {
     "data": {
      "application/vnd.jupyter.widget-view+json": {
       "model_id": "4458097c91db479a964fe832772cafe0",
       "version_major": 2,
       "version_minor": 0
      },
      "text/plain": [
       "VBox(children=(IntText(value=0, description='Model start time (tStart in hours):', layout=Layout(margin='5px',…"
      ]
     },
     "metadata": {},
     "output_type": "display_data"
    },
    {
     "data": {
      "application/vnd.jupyter.widget-view+json": {
       "model_id": "bb3aa546ffde4d00bfcc588a1dd7c297",
       "version_major": 2,
       "version_minor": 0
      },
      "text/plain": [
       "Button(description='Update settings', layout=Layout(height='35px', width='99%'), style=ButtonStyle(button_colo…"
      ]
     },
     "metadata": {},
     "output_type": "display_data"
    },
    {
     "data": {
      "application/vnd.jupyter.widget-view+json": {
       "model_id": "ef7f24b30d7643ada54621240264cab0",
       "version_major": 2,
       "version_minor": 0
      },
      "text/plain": [
       "Output()"
      ]
     },
     "metadata": {},
     "output_type": "display_data"
    },
    {
     "data": {
      "text/plain": [
       "'MDU settings are:'"
      ]
     },
     "metadata": {},
     "output_type": "display_data"
    },
    {
     "name": "stdout",
     "output_type": "stream",
     "text": [
      "{\n",
      "    \"tStart\": 0.0,\n",
      "    \"tStop\": 168.0,\n",
      "    \"mapInterval\": 20.0,\n",
      "    \"DHYDRO location\": \"C:\\\\Program Files\\\\Deltares\\\\D-HYDRO Suite 2023.01 1D2D\\\\plugins\\\\DeltaShell.Dimr\\\\kernels\\\\x64\\\\dimr\\\\scripts\\\\run_dimr.bat\"\n",
      "}\n"
     ]
    }
   ],
   "source": [
    "import shutil\n",
    "from notebooks.background_scripting.v1.modify_mdu import ModifyMDU, copy_model\n",
    "\n",
    "model_path = copy_model(os.path.join(model_settings.settings['folder'], model_settings.settings['model']), model_settings.settings['scenario_name'])\n",
    "modify_mdu = ModifyMDU(model_path)\n",
    "modify_mdu.display_widgets()"
   ]
  },
  {
   "cell_type": "markdown",
   "id": "4c3f65d8",
   "metadata": {},
   "source": [
    "## 1.3. Dambreak location\n",
    "Selecteer de dambreak locatie in de volgende stappen"
   ]
  },
  {
   "cell_type": "code",
   "execution_count": 8,
   "id": "a74f04d5",
   "metadata": {},
   "outputs": [
    {
     "data": {
      "application/vnd.jupyter.widget-view+json": {
       "model_id": "d3e7a268807b4681993e37ad04550b25",
       "version_major": 2,
       "version_minor": 0
      },
      "text/plain": [
       "Map(center=[51.970682, 4.64013599], controls=(ZoomControl(options=['position', 'zoom_in_text', 'zoom_in_title'…"
      ]
     },
     "metadata": {},
     "output_type": "display_data"
    },
    {
     "data": {
      "application/vnd.jupyter.widget-view+json": {
       "model_id": "f296fd2e3a3f4aa584d382731ea3b0cf",
       "version_major": 2,
       "version_minor": 0
      },
      "text/plain": [
       "HTML(value='<b style=\"color:black;font-size:18px;\">Step 1: Select dambreach location (1/4) </b>')"
      ]
     },
     "metadata": {},
     "output_type": "display_data"
    },
    {
     "data": {
      "application/vnd.jupyter.widget-view+json": {
       "model_id": "635707b7c4a34b3d8789814264f013ad",
       "version_major": 2,
       "version_minor": 0
      },
      "text/plain": [
       "Image(value=b'\\x89PNG\\r\\n\\x1a\\n\\x00\\x00\\x00\\rIHDR\\x00\\x00\\x05\\xdc\\x00\\x00\\x03\\x84\\x08\\x03\\x00\\x00\\x00\\x8c\\xe6\\…"
      ]
     },
     "metadata": {},
     "output_type": "display_data"
    },
    {
     "data": {
      "application/vnd.jupyter.widget-view+json": {
       "model_id": "550bf95ce85240f699e1fe0cc3939f07",
       "version_major": 2,
       "version_minor": 0
      },
      "text/plain": [
       "Button(description='Next step', layout=Layout(height='35px', width='99%'), style=ButtonStyle(button_color='#35…"
      ]
     },
     "metadata": {},
     "output_type": "display_data"
    },
    {
     "data": {
      "application/vnd.jupyter.widget-view+json": {
       "model_id": "da247566bc684c519b5221afb5fa1fbc",
       "version_major": 2,
       "version_minor": 0
      },
      "text/plain": [
       "Output()"
      ]
     },
     "metadata": {},
     "output_type": "display_data"
    }
   ],
   "source": [
    "from notebooks.background_scripting.v1.modify_dambreak_v2 import DambreakWidget\n",
    "\n",
    "dambreakWidget = DambreakWidget(model_path)\n",
    "dambreakWidget.draw_map()"
   ]
  },
  {
   "cell_type": "markdown",
   "id": "57e82268",
   "metadata": {},
   "source": [
    "## 1.4. Dambreak settings\n",
    "Bepaal de initiële hoogte van de dambreak (in m+NAP) "
   ]
  },
  {
   "cell_type": "code",
   "execution_count": 5,
   "id": "f3989184",
   "metadata": {},
   "outputs": [
    {
     "data": {
      "application/vnd.jupyter.widget-view+json": {
       "model_id": "87df85b53db142c5b9acd359f2657e27",
       "version_major": 2,
       "version_minor": 0
      },
      "text/plain": [
       "VBox(children=(FloatText(value=3.0, description='Initial crest level of dambreach (crestLevelIni):', layout=La…"
      ]
     },
     "metadata": {},
     "output_type": "display_data"
    },
    {
     "data": {
      "application/vnd.jupyter.widget-view+json": {
       "model_id": "4d53539e7959445ab1383065c47cb44d",
       "version_major": 2,
       "version_minor": 0
      },
      "text/plain": [
       "Button(description='Update settings', layout=Layout(height='35px', width='99%'), style=ButtonStyle(button_colo…"
      ]
     },
     "metadata": {},
     "output_type": "display_data"
    },
    {
     "data": {
      "application/vnd.jupyter.widget-view+json": {
       "model_id": "149edc617c7a428fa943adc4b0ae75ee",
       "version_major": 2,
       "version_minor": 0
      },
      "text/plain": [
       "Output()"
      ]
     },
     "metadata": {},
     "output_type": "display_data"
    },
    {
     "data": {
      "text/plain": [
       "'Dambreak settings are:'"
      ]
     },
     "metadata": {},
     "output_type": "display_data"
    },
    {
     "name": "stdout",
     "output_type": "stream",
     "text": [
      "{\n",
      "    \"crestLevelIni\": 3.0,\n",
      "    \"t0\": 0.0,\n",
      "    \"timeToBreachToMaximumDepth\": 360.0,\n",
      "    \"crestLevelMin\": -2.0,\n",
      "    \"breachWidthIni\": 5.0,\n",
      "    \"f1\": 1.3,\n",
      "    \"f2\": 0.04,\n",
      "    \"uCrit\": 0.2\n",
      "}\n"
     ]
    }
   ],
   "source": [
    "from notebooks.background_scripting.v1.modify_dambreak_v2 import ModifyDambreak\n",
    "\n",
    "add_dambreak = ModifyDambreak(model_path, dambreakWidget.settings, dambreakWidget.keringen)\n",
    "add_dambreak.display_widgets()"
   ]
  },
  {
   "cell_type": "markdown",
   "id": "7dcf0ada",
   "metadata": {},
   "source": [
    "## 1.5. Boundary conditions\n",
    "Specificeer de randvoorwaarden"
   ]
  },
  {
   "cell_type": "code",
   "execution_count": 6,
   "id": "1fd54a0e",
   "metadata": {},
   "outputs": [
    {
     "data": {
      "application/vnd.jupyter.widget-view+json": {
       "model_id": "527e3927a3b24d569c8ebf569ca4e087",
       "version_major": 2,
       "version_minor": 0
      },
      "text/plain": [
       "VBox(children=(FloatText(value=0.0, description='Waterlevel North Sea', layout=Layout(margin='5px', width='95%…"
      ]
     },
     "metadata": {},
     "output_type": "display_data"
    },
    {
     "data": {
      "application/vnd.jupyter.widget-view+json": {
       "model_id": "3ce9641c2af544f69d6a0108cb5236a3",
       "version_major": 2,
       "version_minor": 0
      },
      "text/plain": [
       "Button(description='Update settings', layout=Layout(height='35px', width='99%'), style=ButtonStyle(button_colo…"
      ]
     },
     "metadata": {},
     "output_type": "display_data"
    },
    {
     "data": {
      "application/vnd.jupyter.widget-view+json": {
       "model_id": "030dffc3e4e64eebacd8e129bea29790",
       "version_major": 2,
       "version_minor": 0
      },
      "text/plain": [
       "Output()"
      ]
     },
     "metadata": {},
     "output_type": "display_data"
    },
    {
     "data": {
      "text/plain": [
       "'Boundary conditions are:'"
      ]
     },
     "metadata": {},
     "output_type": "display_data"
    },
    {
     "name": "stdout",
     "output_type": "stream",
     "text": [
      "{\n",
      "    \"Waterlevel North Sea\": 0.0,\n",
      "    \"Waterlevel Markermeer\": 0.0,\n",
      "    \"Rhine basic discharge\": 5000.0,\n",
      "    \"Rhine peak discharge\": 16000.0,\n",
      "    \"Rhine event start\": 0.0,\n",
      "    \"Rhine event duration\": 600000.0\n",
      "}\n"
     ]
    },
    {
     "data": {
      "image/png": "[encoded data removed]",
      "text/plain": [
       "<Figure size 1300x500 with 1 Axes>"
      ]
     },
     "metadata": {},
     "output_type": "display_data"
    }
   ],
   "source": [
    "from notebooks.background_scripting.v1.modify_boundaries import ModifyBoundaries, ModifyRhineDischarge\n",
    "\n",
    "modify_boundaries = ModifyBoundaries(model_path, modify_mdu.settings, add_dambreak.dambreak_settings)\n",
    "modify_boundaries.display_widgets()"
   ]
  },
  {
   "cell_type": "markdown",
   "id": "39eeb01c",
   "metadata": {},
   "source": [
    "# 2. Run Model\n",
    "Simuleer het scenario"
   ]
  },
  {
   "cell_type": "code",
   "execution_count": 7,
   "id": "385df13e",
   "metadata": {
    "scrolled": true
   },
   "outputs": [
    {
     "data": {
      "application/vnd.jupyter.widget-view+json": {
       "model_id": "0645e6f4a4c64f7e8a88c96d0a0352d6",
       "version_major": 2,
       "version_minor": 0
      },
      "text/plain": [
       "Button(description='Run model!', layout=Layout(height='35px', width='99%'), style=ButtonStyle(button_color='#3…"
      ]
     },
     "metadata": {},
     "output_type": "display_data"
    },
    {
     "data": {
      "application/vnd.jupyter.widget-view+json": {
       "model_id": "3ade14a58c034a4da76eeb46c164cd74",
       "version_major": 2,
       "version_minor": 0
      },
      "text/plain": [
       "Output()"
      ]
     },
     "metadata": {},
     "output_type": "display_data"
    },
    {
     "data": {
      "application/vnd.jupyter.widget-view+json": {
       "model_id": "8a4becab9dd449098cde0eb9637c692b",
       "version_major": 2,
       "version_minor": 0
      },
      "text/plain": [
       "VBox(children=(FloatProgress(value=0.0, layout=Layout(width='99%'), style=ProgressStyle(description_width='ini…"
      ]
     },
     "metadata": {},
     "output_type": "display_data"
    },
    {
     "ename": "Exception",
     "evalue": "Dambreak is invalid, retry setting a dambreak",
     "output_type": "error",
     "traceback": [
      "\u001b[1;31m---------------------------------------------------------------------------\u001b[0m",
      "\u001b[1;31mException\u001b[0m                                 Traceback (most recent call last)",
      "File \u001b[1;32mD:\\Work\\git\\GIS_tools\\Code\\notebooks\\background_scripting\\v1\\model_runner.py:95\u001b[0m, in \u001b[0;36mModelRunner.run_model\u001b[1;34m(self, b)\u001b[0m\n\u001b[0;32m     93\u001b[0m \u001b[38;5;28;01mif\u001b[39;00m \u001b[38;5;124m\"\u001b[39m\u001b[38;5;124m0 nr of dambreak links\u001b[39m\u001b[38;5;124m\"\u001b[39m \u001b[38;5;129;01min\u001b[39;00m line:\n\u001b[0;32m     94\u001b[0m     p\u001b[38;5;241m.\u001b[39mkill()\n\u001b[1;32m---> 95\u001b[0m     \u001b[38;5;28;01mraise\u001b[39;00m \u001b[38;5;167;01mException\u001b[39;00m(\u001b[38;5;124m\"\u001b[39m\u001b[38;5;124mDambreak is invalid, retry setting a dambreak\u001b[39m\u001b[38;5;124m\"\u001b[39m)\n\u001b[0;32m     96\u001b[0m new_logging \u001b[38;5;241m+\u001b[39m\u001b[38;5;241m=\u001b[39m \u001b[38;5;124mf\u001b[39m\u001b[38;5;124m\"\u001b[39m\u001b[38;5;124m<p>\u001b[39m\u001b[38;5;132;01m{\u001b[39;00mline\u001b[38;5;132;01m}\u001b[39;00m\u001b[38;5;124m</p>\u001b[39m\u001b[38;5;124m\"\u001b[39m\n\u001b[0;32m     97\u001b[0m \u001b[38;5;28mself\u001b[39m\u001b[38;5;241m.\u001b[39mread_model_progress()\n",
      "\u001b[1;31mException\u001b[0m: Dambreak is invalid, retry setting a dambreak"
     ]
    }
   ],
   "source": [
    "from notebooks.background_scripting.v1.model_runner import ModelRunner\n",
    "\n",
    "model_runner = ModelRunner(model_path)\n",
    "model_runner.display_widgets()"
   ]
  },
  {
   "cell_type": "markdown",
   "id": "2a752357",
   "metadata": {},
   "source": [
    "# 3. Post processing"
   ]
  },
  {
   "cell_type": "markdown",
   "id": "41a32336",
   "metadata": {},
   "source": [
    "## 3.1. Plot map\n",
    "Visualiseer de resultaten op een kaart"
   ]
  },
  {
   "cell_type": "code",
   "execution_count": 9,
   "id": "e9568659",
   "metadata": {},
   "outputs": [
    {
     "data": {
      "application/vnd.jupyter.widget-view+json": {
       "model_id": "f101e44a0b884d4f83d26c150728c8f3",
       "version_major": 2,
       "version_minor": 0
      },
      "text/plain": [
       "VBox(children=(Text(value='D:\\\\Work\\\\Project\\\\P1414\\\\Models\\\\Model_runs\\\\V20_WBD_v1_simulated_2023-05-05T18-19…"
      ]
     },
     "metadata": {},
     "output_type": "display_data"
    },
    {
     "data": {
      "application/vnd.jupyter.widget-view+json": {
       "model_id": "1cbc8b8b6254485982f2f1546bcefa2c",
       "version_major": 2,
       "version_minor": 0
      },
      "text/plain": [
       "Button(description='Plot map', layout=Layout(height='35px', width='99%'), style=ButtonStyle(button_color='#358…"
      ]
     },
     "metadata": {},
     "output_type": "display_data"
    },
    {
     "data": {
      "application/vnd.jupyter.widget-view+json": {
       "model_id": "8651dd8f55f948a3b71660bce71fb3cc",
       "version_major": 2,
       "version_minor": 0
      },
      "text/plain": [
       "Output()"
      ]
     },
     "metadata": {},
     "output_type": "display_data"
    }
   ],
   "source": [
    "from notebooks.background_scripting.v1.post_processing import PlotSettingsMap, MapPlotter\n",
    "\n",
    "output_path = os.path.join(model_path, 'dflowfm\\output')\n",
    "plot_settings = PlotSettingsMap(output_path)\n",
    "plot_settings.display_widgets()"
   ]
  },
  {
   "cell_type": "markdown",
   "id": "36aeff79",
   "metadata": {},
   "source": [
    "## 3.2. Plot dambreak\n",
    "Visualiseer de resultaten van de dambreak in grafieken"
   ]
  },
  {
   "cell_type": "code",
   "execution_count": 10,
   "id": "276da90f",
   "metadata": {},
   "outputs": [
    {
     "data": {
      "application/vnd.jupyter.widget-view+json": {
       "model_id": "4c8ab425e2f4489a8b181074671d07fb",
       "version_major": 2,
       "version_minor": 0
      },
      "text/plain": [
       "VBox(children=(Text(value='D:\\\\Work\\\\Project\\\\P1414\\\\Models\\\\Model_runs\\\\V20_WBD_v1_simulated_2023-05-05T18-19…"
      ]
     },
     "metadata": {},
     "output_type": "display_data"
    },
    {
     "data": {
      "application/vnd.jupyter.widget-view+json": {
       "model_id": "9861bd655c6845fe92b192493612c137",
       "version_major": 2,
       "version_minor": 0
      },
      "text/plain": [
       "Button(description='Plot breach information', layout=Layout(height='35px', width='99%'), style=ButtonStyle(but…"
      ]
     },
     "metadata": {},
     "output_type": "display_data"
    },
    {
     "data": {
      "application/vnd.jupyter.widget-view+json": {
       "model_id": "9f10e91343fb4274973d325722b7636e",
       "version_major": 2,
       "version_minor": 0
      },
      "text/plain": [
       "Output()"
      ]
     },
     "metadata": {},
     "output_type": "display_data"
    }
   ],
   "source": [
    "from notebooks.background_scripting.v1.post_processing import PlotSettingsBreach, BreachPlotter\n",
    "\n",
    "\n",
    "output_path = os.path.join(model_path, 'dflowfm\\output')\n",
    "plot_settings = PlotSettingsBreach(output_path)\n",
    "plot_settings.display_widgets()\n",
    "\n"
   ]
  },
  {
   "cell_type": "code",
   "execution_count": null,
   "id": "228d7515",
   "metadata": {},
   "outputs": [],
   "source": []
  }
 ],
 "metadata": {
  "kernelspec": {
   "display_name": "Python 3 (ipykernel)",
   "language": "python",
   "name": "python3"
  },
  "language_info": {
   "codemirror_mode": {
    "name": "ipython",
    "version": 3
   },
   "file_extension": ".py",
   "mimetype": "text/x-python",
   "name": "python",
   "nbconvert_exporter": "python",
   "pygments_lexer": "ipython3",
   "version": "3.10.10"
  }
 },
 "nbformat": 4,
 "nbformat_minor": 5
}
