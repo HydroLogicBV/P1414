{
 "cells": [
  {
   "cell_type": "markdown",
   "id": "ed2f2184",
   "metadata": {},
   "source": [
    "# ROI Stand Alone Service"
   ]
  },
  {
   "cell_type": "markdown",
   "id": "ed718d14",
   "metadata": {},
   "source": [
    "# 0. Imports\n",
    "\n",
    "1. Verander **git_dir** in de map op jouw computer met de code. <br>\n",
    "2. Run vervolgens de cell door met de **Run** knop bovenin het scherm of door **ctrl+enter** te drukken. <br>\n",
    "Het bolletje rechts boven geeft aan of het notebook bezig is (naast Python 3 (ipykernel)). Als deze zwart gekleurd is, dan is het notebook bezig.<br>\n",
    "Als er \"Imports are succesfull!\" onder de cell komt te staan na het uitvoeren, dan is deze cell succesvol uitgevoerd. <br>"
   ]
  },
  {
   "cell_type": "code",
   "execution_count": 1,
   "id": "a1ec636f",
   "metadata": {},
   "outputs": [
    {
     "name": "stdout",
     "output_type": "stream",
     "text": [
      "Imports are succesfull!\n"
     ]
    }
   ],
   "source": [
    "import os\n",
    "import sys\n",
    "import shutil\n",
    "%load_ext autoreload\n",
    "%autoreload 2\n",
    "\n",
    "# insert the directory where you extracted the zip file here:\n",
    "git_dir = r\"C:\\Work\\Projects\\HL-P24050_ROI\\05_Analysis\\P1414\"\n",
    "\n",
    "sys.path.append(os.path.join(git_dir, 'Code'))\n",
    "sys.path.append(os.path.join(git_dir, 'HydroLogic_Inundation_toolbox'))\n",
    "sys.path.append(os.path.join(git_dir, 'HydroLogic_Inundation_toolbox/Readers'))\n",
    "\n",
    "from notebooks.background_scripting.v1.test_connection import TestConnection\n",
    "test_connection = TestConnection()"
   ]
  },
  {
   "cell_type": "markdown",
   "id": "340276cd",
   "metadata": {},
   "source": [
    "# 1. Model specifications "
   ]
  },
  {
   "cell_type": "markdown",
   "id": "13bde66f",
   "metadata": {},
   "source": [
    "## 1.1. Select basemodel\n",
    "De widgets zijn alleen te zien als je het notebook zelf runt! In de documentatie zijn deze niet zichtbaar. <br>\n",
    "1. Run de cell hieronder.<br>\n",
    "2. Vul in de widget \"path to folder with models\" de map in waarin de gedownloade modellen staan. <br>\n",
    "3. Vervolgens klik je update settings en kan je een model selecteren in de lijst. <br>\n",
    "4. Je kan het scenario dat je wil door rekenen ook een naam geven, door deze in te vullen bij \"Scenario name\". <br>\n",
    "5. Ten slotte klik je wederom op update settings."
   ]
  },
  {
   "cell_type": "code",
   "execution_count": 2,
   "id": "87885da0",
   "metadata": {},
   "outputs": [
    {
     "data": {
      "application/vnd.jupyter.widget-view+json": {
       "model_id": "45ad02fe980e4fc58f19099f106910f1",
       "version_major": 2,
       "version_minor": 0
      },
      "text/plain": [
       "VBox(children=(Text(value='C:\\\\Work\\\\Projects\\\\HL-P24050_ROI\\\\05_Analysis\\\\SAS_workdir\\\\run_model\\\\model_datab…"
      ]
     },
     "metadata": {},
     "output_type": "display_data"
    },
    {
     "data": {
      "application/vnd.jupyter.widget-view+json": {
       "model_id": "ec6248c0e82940e98b6bad054035de26",
       "version_major": 2,
       "version_minor": 0
      },
      "text/plain": [
       "Button(description='Update settings', layout=Layout(height='35px', width='99%'), style=ButtonStyle(button_colo…"
      ]
     },
     "metadata": {},
     "output_type": "display_data"
    },
    {
     "data": {
      "application/vnd.jupyter.widget-view+json": {
       "model_id": "444facc59de041e193dd4b5afbe81fc5",
       "version_major": 2,
       "version_minor": 0
      },
      "text/plain": [
       "Output()"
      ]
     },
     "metadata": {},
     "output_type": "display_data"
    },
    {
     "data": {
      "text/plain": [
       "'Model settings are:'"
      ]
     },
     "metadata": {},
     "output_type": "display_data"
    },
    {
     "name": "stdout",
     "output_type": "stream",
     "text": [
      "{\n",
      "    \"folder\": \"C:\\\\Work\\\\Projects\\\\HL-P24050_ROI\\\\05_Analysis\\\\SAS_workdir\\\\run_model\\\\model_database\",\n",
      "    \"model\": \"V23_WBD_25_exported\",\n",
      "    \"scenario_name\": \"run\"\n",
      "}\n"
     ]
    }
   ],
   "source": [
    "from notebooks.background_scripting.v1.select_basemodel import ModelSettings\n",
    "\n",
    "model_settings = ModelSettings(git_dir)\n",
    "model_settings.display_widgets()"
   ]
  },
  {
   "cell_type": "markdown",
   "id": "46132461",
   "metadata": {},
   "source": [
    "## 1.2. Model settings\n",
    "1. Run de cell hieronder.<br>\n",
    "2. Kies de start- en stoptijd van het model. <br>\n",
    "3. Kies de interval om resultaten weg te schrijven bij \"Interval to write map file\". <br>\n",
    "4. Vul de locatie in van het D-HYDRO script _run_dimr.bat_. Dit scripts is te vinden in de map van je D-HYDRO installatie. De map is waarschijnlijk vergelijkbaar aan de standaard waarde in de widget \"Location of dhydro run_dimr\". <br>\n",
    "5. Klik op \"Update settings <br>"
   ]
  },
  {
   "cell_type": "code",
   "execution_count": 3,
   "id": "e406ef18",
   "metadata": {},
   "outputs": [
    {
     "data": {
      "application/vnd.jupyter.widget-view+json": {
       "model_id": "49c91fd5159a4378a86fffc287bb1105",
       "version_major": 2,
       "version_minor": 0
      },
      "text/plain": [
       "VBox(children=(IntText(value=0, description='Model start time (tStart in hours):', layout=Layout(margin='5px',…"
      ]
     },
     "metadata": {},
     "output_type": "display_data"
    },
    {
     "data": {
      "application/vnd.jupyter.widget-view+json": {
       "model_id": "77eadb44b06743ba88f6d5b6f2b72500",
       "version_major": 2,
       "version_minor": 0
      },
      "text/plain": [
       "Button(description='Update settings', layout=Layout(height='35px', width='99%'), style=ButtonStyle(button_colo…"
      ]
     },
     "metadata": {},
     "output_type": "display_data"
    },
    {
     "data": {
      "application/vnd.jupyter.widget-view+json": {
       "model_id": "c399e4e2965843a8a0a827bd1df92226",
       "version_major": 2,
       "version_minor": 0
      },
      "text/plain": [
       "Output()"
      ]
     },
     "metadata": {},
     "output_type": "display_data"
    },
    {
     "data": {
      "text/plain": [
       "'MDU settings are:'"
      ]
     },
     "metadata": {},
     "output_type": "display_data"
    },
    {
     "name": "stdout",
     "output_type": "stream",
     "text": [
      "{\n",
      "    \"tStart\": 0.0,\n",
      "    \"tStop\": 168.0,\n",
      "    \"mapInterval\": 0.0,\n",
      "    \"DHYDRO location\": \"D:\\\\Koen\\\\dimrset_x64_237\\\\x64\\\\dimr\\\\scripts\\\\run_dimr.bat\"\n",
      "}\n"
     ]
    }
   ],
   "source": [
    "from notebooks.background_scripting.v1.modify_mdu import ModifyMDU, copy_model\n",
    "\n",
    "model_path = copy_model(os.path.join(model_settings.settings['folder'], model_settings.settings['model']), model_settings.settings['scenario_name'])\n",
    "modify_mdu = ModifyMDU(model_path)\n",
    "modify_mdu.display_widgets()"
   ]
  },
  {
   "cell_type": "markdown",
   "id": "4c3f65d8",
   "metadata": {},
   "source": [
    "## 1.3.1. Dambreak location\n",
    "Kies hieronder zelf een dambreak locatie. Bij een hoge resolutie kan het eventjes duren voordat de kaart verschijnt. <br> \n",
    "1. Selecteer waar je ongeveer een damdoorbraak wil gaan doorrekenen. <br>\n",
    "2. Run de cell hieronder. Dit kan iets langer duren dan de vorige cellen.<br>\n",
    "3. Kies de locatie van je damdoorbraak. Dit doe je door een lijn te trekken door een dam (rood) heen. Deze lijn moet ook een 1D2D link (groen) snijden. Probeer je lijn parralel aan de dam te tekenen, maar wel snijdend door de dam (rood) en de 1D2D link (groen). Het kan even duren voordat alle dammen en links zichtbaar zijn. <br>\n",
    "4. Kies het bovenstroomse punt (punt in watergang) voor het water door damdoorbraak stroomt. <br>\n",
    "5. Kies het benedenstroomse punt (grid cell) waar het water naar toe stroomt. <br>\n",
    "6. Bekijk je geselecteerde locatie. Als je niet tevereden bent, run deze cell dan opnieuw."
   ]
  },
  {
   "cell_type": "code",
   "execution_count": null,
   "id": "a74f04d5",
   "metadata": {},
   "outputs": [
    {
     "data": {
      "application/vnd.jupyter.widget-view+json": {
       "model_id": "6859959553e54a02a05e57283c100dc8",
       "version_major": 2,
       "version_minor": 0
      },
      "text/plain": [
       "Map(center=[51.97049316431671, 4.642538563889401], controls=(ZoomControl(options=['position', 'zoom_in_text', …"
      ]
     },
     "metadata": {},
     "output_type": "display_data"
    },
    {
     "data": {
      "application/vnd.jupyter.widget-view+json": {
       "model_id": "965c048ede0f4ed2be0af42fff0e9275",
       "version_major": 2,
       "version_minor": 0
      },
      "text/plain": [
       "HTML(value='<b style=\"color:black;font-size:18px;\">Done! Inspect your results (4/4) </b>')"
      ]
     },
     "metadata": {},
     "output_type": "display_data"
    },
    {
     "data": {
      "application/vnd.jupyter.widget-view+json": {
       "model_id": "12f6b45b0d4f464f9d5d13c37bc4a44e",
       "version_major": 2,
       "version_minor": 0
      },
      "text/plain": [
       "HTML(value='')"
      ]
     },
     "metadata": {},
     "output_type": "display_data"
    },
    {
     "data": {
      "application/vnd.jupyter.widget-view+json": {
       "model_id": "0a2109dceac946f9843cac7373877a35",
       "version_major": 2,
       "version_minor": 0
      },
      "text/plain": [
       "Image(value=b'\\x89PNG\\r\\n\\x1a\\n\\x00\\x00\\x00\\rIHDR\\x00\\x00\\x05\\xdc\\x00\\x00\\x03\\xbe\\x08\\x02\\x00\\x00\\x00\\x91\\xbb@…"
      ]
     },
     "metadata": {},
     "output_type": "display_data"
    }
   ],
   "source": [
    "from notebooks.background_scripting.v1.modify_dambreak_v3 import DambreakWidget\n",
    "from notebooks.background_scripting.v1.modify_dambreak_v3 import UseTemplateDambreak\n",
    "\n",
    "# if you want, you can select a dambreach from the template by setting this to True. \n",
    "# You can add templates by adding a functioning dike breach location to \\data\\dambreak_database.json.\n",
    "use_template = False \n",
    "if use_template == True:\n",
    "    dambreak_template = UseTemplateDambreak(model_path)\n",
    "    dambreak_template.draw_map()\n",
    "if use_template == False:\n",
    "    dambreakWidget = DambreakWidget(model_path)\n",
    "    dambreakWidget.draw_map()"
   ]
  },
  {
   "cell_type": "markdown",
   "id": "57e82268",
   "metadata": {},
   "source": [
    "## 1.4. Dambreak settings\n",
    "Specificeer de parameters van de Dambreak <br>\n",
    "1. Run de cell hieronder.<br>\n",
    "2. Vul alle velden in met de waardes die je wil.<br>\n",
    "3. Klik op \"update settings\". "
   ]
  },
  {
   "cell_type": "code",
   "execution_count": 5,
   "id": "f3989184",
   "metadata": {},
   "outputs": [
    {
     "data": {
      "application/vnd.jupyter.widget-view+json": {
       "model_id": "75c9ac721a8a4a0da177585c2ac0849c",
       "version_major": 2,
       "version_minor": 0
      },
      "text/plain": [
       "VBox(children=(FloatText(value=-0.38, description='Initial crest level of dambreach (crestLevelIni):', layout=…"
      ]
     },
     "metadata": {},
     "output_type": "display_data"
    },
    {
     "data": {
      "application/vnd.jupyter.widget-view+json": {
       "model_id": "f507a8ca77c140aba7c720a041aea40a",
       "version_major": 2,
       "version_minor": 0
      },
      "text/plain": [
       "Button(description='Update settings', layout=Layout(height='35px', width='99%'), style=ButtonStyle(button_colo…"
      ]
     },
     "metadata": {},
     "output_type": "display_data"
    },
    {
     "data": {
      "application/vnd.jupyter.widget-view+json": {
       "model_id": "c0e68871f081454bba0b8b5ad573827d",
       "version_major": 2,
       "version_minor": 0
      },
      "text/plain": [
       "Output()"
      ]
     },
     "metadata": {},
     "output_type": "display_data"
    }
   ],
   "source": [
    "from notebooks.background_scripting.v1.modify_dambreak_v3 import ModifyDambreak\n",
    "\n",
    "if use_template == False:\n",
    "    add_dambreak = ModifyDambreak(model_path, dambreakWidget.settings, dambreakWidget.keringen, False, None)\n",
    "else:\n",
    "    add_dambreak = ModifyDambreak(model_path, None, None, True, dambreak_template.kering_choice)\n",
    "add_dambreak.display_widgets()"
   ]
  },
  {
   "cell_type": "markdown",
   "id": "7dcf0ada",
   "metadata": {},
   "source": [
    "## 1.5. Boundary conditions\n",
    "Specificeer de randvoorwaarden van het model. <br>\n",
    "1. Run de cell hieronder.<br>\n",
    "2. Voer het waterlevel in de Noordzee in. <br>\n",
    "3. Voer het waterlevel in het Markermeer in. <br>\n",
    "4. Bepaal de afvoergolf in de Rijn, door de parameters aan te passen.<br>\n",
    "5. Klik op \"update settings\", je ziet dan de huidige instellingen. Je kan dingen nu verder aanpassen, en opnieuw op \"update settings\" klikken, totdat je tevreden bent.\n"
   ]
  },
  {
   "cell_type": "code",
   "execution_count": null,
   "id": "1fd54a0e",
   "metadata": {},
   "outputs": [],
   "source": [
    "from notebooks.background_scripting.v1.modify_boundaries import ModifyBoundaries, ModifyRhineDischarge\n",
    "\n",
    "modify_boundaries = ModifyBoundaries(model_path, modify_mdu.settings, add_dambreak.dambreak_settings)\n",
    "modify_boundaries.display_widgets()"
   ]
  },
  {
   "cell_type": "markdown",
   "id": "39eeb01c",
   "metadata": {},
   "source": [
    "# 2. Run Model\n",
    "Voer een simulatie uit. <br>\n",
    "1. Run de cell hieronder. <br>\n",
    "2. Klik op \"Run model\" <br>\n",
    "3. Het model begint nu. Eerst moet het model initialiseren, dit kan een tijdje duren. Hierna zal het progressie balkje vol lopen. "
   ]
  },
  {
   "cell_type": "code",
   "execution_count": null,
   "id": "385df13e",
   "metadata": {
    "scrolled": true
   },
   "outputs": [],
   "source": [
    "from notebooks.background_scripting.v1.model_runner import ModelRunner\n",
    "\n",
    "model_runner = ModelRunner(model_path)\n",
    "model_runner.display_widgets()"
   ]
  },
  {
   "cell_type": "markdown",
   "id": "2a752357",
   "metadata": {},
   "source": [
    "# 3. Post processing"
   ]
  },
  {
   "cell_type": "markdown",
   "id": "41a32336",
   "metadata": {},
   "source": [
    "## 3.1. Plot map\n",
    "Visualiseer de resultaten op kaart. <br>\n",
    "1. Run de cell hieronder.<br>\n",
    "2. Voer de gewenste parameters in voor de plot. <br>\n",
    "3. Klik op \"Plot map\". De eerste plot duurt iets langer.<br>\n",
    "Indien je een ander model wil bekijken dan je hebt doorgerekend, dan kan je dat doen door in de cell hieronder een nieuw model_path toe te voegen. Voeg de volgende regel toe: <br>\n",
    "_model_path = r\"PATH_TO_MODEL\"_"
   ]
  },
  {
   "cell_type": "code",
   "execution_count": null,
   "id": "e9568659",
   "metadata": {},
   "outputs": [],
   "source": [
    "from notebooks.background_scripting.v1.post_processing import PlotSettingsMap, MapPlotter\n",
    "\n",
    "plot_settings = PlotSettingsMap(model_path)\n",
    "plot_settings.display_widgets()"
   ]
  },
  {
   "cell_type": "markdown",
   "id": "36aeff79",
   "metadata": {},
   "source": [
    "## 3.2. Plot dambreak\n",
    "Maak grafieken van de dambreak variabelen.\n",
    "\n",
    "1. Run de cell hieronder.<br>\n",
    "2. Voer de gewenste parameters in voor de plot. <br>\n",
    "3. Klik op \"Plot breach information\".<br>\n",
    "Indien je een ander model wil bekijken dan je hebt doorgerekend (of als je niks wil doorrekenen), dan kan je dat doen door in de cell hieronder een nieuw model_path toe te voegen. Voeg de volgende lijn toe: <br>\n",
    "_model_path = r\"PATH_TO_MODEL\"_"
   ]
  },
  {
   "cell_type": "code",
   "execution_count": null,
   "id": "276da90f",
   "metadata": {},
   "outputs": [],
   "source": [
    "from notebooks.background_scripting.v1.post_processing import PlotSettingsBreach, BreachPlotter\n",
    "\n",
    "plot_settings = PlotSettingsBreach(model_path)\n",
    "plot_settings.display_widgets()"
   ]
  }
 ],
 "metadata": {
  "kernelspec": {
   "display_name": "Python 3 (ipykernel)",
   "language": "python",
   "name": "python3"
  },
  "language_info": {
   "codemirror_mode": {
    "name": "ipython",
    "version": 3
   },
   "file_extension": ".py",
   "mimetype": "text/x-python",
   "name": "python",
   "nbconvert_exporter": "python",
   "pygments_lexer": "ipython3",
   "version": "3.10.10"
  }
 },
 "nbformat": 4,
 "nbformat_minor": 5
}
