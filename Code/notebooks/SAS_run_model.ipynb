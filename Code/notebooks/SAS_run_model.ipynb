{
 "cells": [
  {
   "cell_type": "markdown",
   "id": "ed718d14",
   "metadata": {},
   "source": [
    "# 0. Imports"
   ]
  },
  {
   "cell_type": "code",
   "execution_count": 1,
   "id": "a1ec636f",
   "metadata": {},
   "outputs": [
    {
     "name": "stdout",
     "output_type": "stream",
     "text": [
      "Imports are succesfull!\n"
     ]
    }
   ],
   "source": [
    "import os\n",
    "import sys\n",
    "import numpy as np\n",
    "%load_ext autoreload\n",
    "%autoreload 2\n",
    "\n",
    "# insert the directory where you extracted the zip file here:\n",
    "git_dir = r\"C:\\Werk\\Projecten\\P1414_ROI\\Cursus\\StandAloneServiceZipfile\"\n",
    "\n",
    "sys.path.append(os.path.join(git_dir, 'Code'))\n",
    "sys.path.append(os.path.join(git_dir, 'HydroLogic_Inundation_toolbox'))\n",
    "sys.path.append(os.path.join(git_dir, 'HydroLogic_Inundation_toolbox/Readers'))\n",
    "\n",
    "from notebooks.background_scripting.v1.test_connection import TestConnection\n",
    "test_connection = TestConnection()"
   ]
  },
  {
   "cell_type": "markdown",
   "id": "340276cd",
   "metadata": {},
   "source": [
    "# 1. Model specifications "
   ]
  },
  {
   "cell_type": "markdown",
   "id": "13bde66f",
   "metadata": {},
   "source": [
    "## 1.1. Select basemodel"
   ]
  },
  {
   "cell_type": "code",
   "execution_count": 2,
   "id": "87885da0",
   "metadata": {},
   "outputs": [
    {
     "data": {
      "application/vnd.jupyter.widget-view+json": {
       "model_id": "23e2b7d4a0a845d3a7cfa9009b5e1917",
       "version_major": 2,
       "version_minor": 0
      },
      "text/plain": [
       "VBox(children=(Text(value='C:\\\\Werk\\\\Projecten\\\\P1414_ROI\\\\Cursus\\\\StandAloneServiceZipfile\\\\Model_database', …"
      ]
     },
     "metadata": {},
     "output_type": "display_data"
    },
    {
     "data": {
      "application/vnd.jupyter.widget-view+json": {
       "model_id": "d7de53d801d94e6b981e0d36c275201d",
       "version_major": 2,
       "version_minor": 0
      },
      "text/plain": [
       "Button(description='Update settings', layout=Layout(height='35px', width='99%'), style=ButtonStyle(button_colo…"
      ]
     },
     "metadata": {},
     "output_type": "display_data"
    },
    {
     "data": {
      "application/vnd.jupyter.widget-view+json": {
       "model_id": "0c00b3a94dd24eb5a76dc4ae13dd6826",
       "version_major": 2,
       "version_minor": 0
      },
      "text/plain": [
       "Output()"
      ]
     },
     "metadata": {},
     "output_type": "display_data"
    },
    {
     "data": {
      "text/plain": [
       "'Model settings are:'"
      ]
     },
     "metadata": {},
     "output_type": "display_data"
    },
    {
     "name": "stdout",
     "output_type": "stream",
     "text": [
      "{\n",
      "    \"folder\": \"C:\\\\Werk\\\\Projecten\\\\P1414_ROI\\\\Cursus\\\\StandAloneServiceZipfile\\\\Model_database\",\n",
      "    \"model\": \"model_cursus\",\n",
      "    \"scenario_name\": \"run-test\"\n",
      "}\n"
     ]
    }
   ],
   "source": [
    "from notebooks.background_scripting.v1.select_basemodel import ModelSettings\n",
    "\n",
    "model_settings = ModelSettings()\n",
    "model_settings.display_widgets()"
   ]
  },
  {
   "cell_type": "markdown",
   "id": "46132461",
   "metadata": {},
   "source": [
    "## 1.2. Model settings"
   ]
  },
  {
   "cell_type": "code",
   "execution_count": 3,
   "id": "e406ef18",
   "metadata": {},
   "outputs": [
    {
     "data": {
      "application/vnd.jupyter.widget-view+json": {
       "model_id": "b710aa6383b84025b084efab2d82fabb",
       "version_major": 2,
       "version_minor": 0
      },
      "text/plain": [
       "VBox(children=(IntText(value=0, description='Model start time (tStart in hours):', layout=Layout(margin='5px',…"
      ]
     },
     "metadata": {},
     "output_type": "display_data"
    },
    {
     "data": {
      "application/vnd.jupyter.widget-view+json": {
       "model_id": "bdc58d5f23144cae87c8c59efdfe5d18",
       "version_major": 2,
       "version_minor": 0
      },
      "text/plain": [
       "Button(description='Update settings', layout=Layout(height='35px', width='99%'), style=ButtonStyle(button_colo…"
      ]
     },
     "metadata": {},
     "output_type": "display_data"
    },
    {
     "data": {
      "application/vnd.jupyter.widget-view+json": {
       "model_id": "c4699723b0ae4df9b419dbdfc2c536db",
       "version_major": 2,
       "version_minor": 0
      },
      "text/plain": [
       "Output()"
      ]
     },
     "metadata": {},
     "output_type": "display_data"
    },
    {
     "data": {
      "text/plain": [
       "'MDU settings are:'"
      ]
     },
     "metadata": {},
     "output_type": "display_data"
    },
    {
     "name": "stdout",
     "output_type": "stream",
     "text": [
      "{\n",
      "    \"tStart\": 0.0,\n",
      "    \"tStop\": 24.0,\n",
      "    \"mapInterval\": 20.0,\n",
      "    \"DHYDRO location\": \"C:\\\\Program Files\\\\Deltares\\\\D-HYDRO Suite 2023.01 1D2D\\\\plugins\\\\DeltaShell.Dimr\\\\kernels\\\\x64\\\\dimr\\\\scripts\\\\run_dimr.bat\"\n",
      "}\n"
     ]
    }
   ],
   "source": [
    "import shutil\n",
    "from notebooks.background_scripting.v1.modify_mdu import ModifyMDU, copy_model\n",
    "\n",
    "model_path = copy_model(os.path.join(model_settings.settings['folder'], model_settings.settings['model']), model_settings.settings['scenario_name'])\n",
    "modify_mdu = ModifyMDU(model_path)\n",
    "modify_mdu.display_widgets()"
   ]
  },
  {
   "cell_type": "markdown",
   "id": "4c3f65d8",
   "metadata": {},
   "source": [
    "## 1.3.1. Dambreak location manual"
   ]
  },
  {
   "cell_type": "code",
   "execution_count": 4,
   "id": "a74f04d5",
   "metadata": {},
   "outputs": [
    {
     "data": {
      "application/vnd.jupyter.widget-view+json": {
       "model_id": "3a144e3998f8496884f160e53ba0a31e",
       "version_major": 2,
       "version_minor": 0
      },
      "text/plain": [
       "Map(center=[51.94553466305084, 4.658881452924391], controls=(ZoomControl(options=['position', 'zoom_in_text', …"
      ]
     },
     "metadata": {},
     "output_type": "display_data"
    },
    {
     "data": {
      "application/vnd.jupyter.widget-view+json": {
       "model_id": "a945b54a33f14256b7c7d04138ce3f0b",
       "version_major": 2,
       "version_minor": 0
      },
      "text/plain": [
       "HTML(value='<b style=\"color:black;font-size:18px;\">Done! Inspect your results (4/4) </b>')"
      ]
     },
     "metadata": {},
     "output_type": "display_data"
    },
    {
     "data": {
      "application/vnd.jupyter.widget-view+json": {
       "model_id": "5953360ef6d446508b4a651b9d11470f",
       "version_major": 2,
       "version_minor": 0
      },
      "text/plain": [
       "Image(value=b'\\x89PNG\\r\\n\\x1a\\n\\x00\\x00\\x00\\rIHDR\\x00\\x00\\x05\\xdc\\x00\\x00\\x03\\x84\\x08\\x03\\x00\\x00\\x00\\x8c\\xe6\\…"
      ]
     },
     "metadata": {},
     "output_type": "display_data"
    }
   ],
   "source": [
    "from notebooks.background_scripting.v1.modify_dambreak_v2 import DambreakWidget\n",
    "\n",
    "use_template = False\n",
    "dambreakWidget = DambreakWidget(model_path)\n",
    "dambreakWidget.draw_map()\n",
    "# loading the map takes a moment, wait until you see red dams on the map."
   ]
  },
  {
   "cell_type": "markdown",
   "id": "2ac0bbbd",
   "metadata": {},
   "source": [
    "## 1.3.2. Dambreak location from template"
   ]
  },
  {
   "cell_type": "code",
   "execution_count": null,
   "id": "164b9b79",
   "metadata": {},
   "outputs": [],
   "source": [
    "from notebooks.background_scripting.v1.modify_dambreak_v2 import UseTemplateDambreak\n",
    "\n",
    "use_template = True\n",
    "dambreak_template = UseTemplateDambreak(model_path)\n",
    "dambreak_template.draw_map()"
   ]
  },
  {
   "cell_type": "markdown",
   "id": "57e82268",
   "metadata": {},
   "source": [
    "## 1.4. Dambreak settings"
   ]
  },
  {
   "cell_type": "code",
   "execution_count": 5,
   "id": "f3989184",
   "metadata": {},
   "outputs": [
    {
     "data": {
      "application/vnd.jupyter.widget-view+json": {
       "model_id": "631d0db899794471811af3eea80d462f",
       "version_major": 2,
       "version_minor": 0
      },
      "text/plain": [
       "VBox(children=(FloatText(value=-0.33, description='Initial crest level of dambreach (crestLevelIni):', layout=…"
      ]
     },
     "metadata": {},
     "output_type": "display_data"
    },
    {
     "data": {
      "application/vnd.jupyter.widget-view+json": {
       "model_id": "9f91fc9e791847fd9c4956dfd50c2c1b",
       "version_major": 2,
       "version_minor": 0
      },
      "text/plain": [
       "Button(description='Update settings', layout=Layout(height='35px', width='99%'), style=ButtonStyle(button_colo…"
      ]
     },
     "metadata": {},
     "output_type": "display_data"
    },
    {
     "data": {
      "application/vnd.jupyter.widget-view+json": {
       "model_id": "a72915fd61c44f90a413f35f56fb1f47",
       "version_major": 2,
       "version_minor": 0
      },
      "text/plain": [
       "Output()"
      ]
     },
     "metadata": {},
     "output_type": "display_data"
    },
    {
     "data": {
      "text/plain": [
       "'Dambreak settings are:'"
      ]
     },
     "metadata": {},
     "output_type": "display_data"
    },
    {
     "name": "stdout",
     "output_type": "stream",
     "text": [
      "{\n",
      "    \"crestLevelIni\": -0.33,\n",
      "    \"t0\": 0.0,\n",
      "    \"crestLevelMin\": -2.0,\n",
      "    \"breachWidthIni\": 5.0,\n",
      "    \"f1\": 1.3,\n",
      "    \"f2\": 0.04,\n",
      "    \"uCrit\": 0.2\n",
      "}\n"
     ]
    }
   ],
   "source": [
    "from notebooks.background_scripting.v1.modify_dambreak_v2 import ModifyDambreak\n",
    "\n",
    "if use_template == False:\n",
    "    print(\"using the manually selected dike breach\")\n",
    "    add_dambreak = ModifyDambreak(model_path, dambreakWidget.settings, dambreakWidget.keringen, False, None)\n",
    "else:\n",
    "    print(\"using the dike breach from a template\")\n",
    "    add_dambreak = ModifyDambreak(model_path, None, None, True, dambreak_template.kering_choice)\n",
    "add_dambreak.display_widgets()"
   ]
  },
  {
   "cell_type": "markdown",
   "id": "7dcf0ada",
   "metadata": {},
   "source": [
    "## 1.5. Boundary conditions"
   ]
  },
  {
   "cell_type": "code",
   "execution_count": null,
   "id": "1fd54a0e",
   "metadata": {},
   "outputs": [],
   "source": [
    "from notebooks.background_scripting.v1.modify_boundaries import ModifyBoundaries, ModifyRhineDischarge\n",
    "\n",
    "modify_boundaries = ModifyBoundaries(model_path, modify_mdu.settings, add_dambreak.dambreak_settings)\n",
    "modify_boundaries.display_widgets()"
   ]
  },
  {
   "cell_type": "markdown",
   "id": "39eeb01c",
   "metadata": {},
   "source": [
    "# 2. Run Model"
   ]
  },
  {
   "cell_type": "code",
   "execution_count": null,
   "id": "385df13e",
   "metadata": {
    "scrolled": true
   },
   "outputs": [],
   "source": [
    "from notebooks.background_scripting.v1.model_runner import ModelRunner\n",
    "\n",
    "model_runner = ModelRunner(model_path)\n",
    "model_runner.display_widgets()"
   ]
  },
  {
   "cell_type": "markdown",
   "id": "2a752357",
   "metadata": {},
   "source": [
    "# 3. Post processing"
   ]
  },
  {
   "cell_type": "markdown",
   "id": "41a32336",
   "metadata": {},
   "source": [
    "## 3.1. Plot map"
   ]
  },
  {
   "cell_type": "code",
   "execution_count": null,
   "id": "e9568659",
   "metadata": {},
   "outputs": [],
   "source": [
    "from notebooks.background_scripting.v1.post_processing import PlotSettingsMap, MapPlotter\n",
    "\n",
    "output_path = os.path.join(model_path, 'dflowfm\\output')\n",
    "plot_settings = PlotSettingsMap(output_path)\n",
    "plot_settings.display_widgets()"
   ]
  },
  {
   "cell_type": "markdown",
   "id": "36aeff79",
   "metadata": {},
   "source": [
    "## 3.2. Plot dambreak"
   ]
  },
  {
   "cell_type": "code",
   "execution_count": null,
   "id": "276da90f",
   "metadata": {},
   "outputs": [],
   "source": [
    "from notebooks.background_scripting.v1.post_processing import PlotSettingsBreach, BreachPlotter\n",
    "\n",
    "model_path = r\"C:\\Werk\\Projecten\\P1414_ROI\\Cursus\\StandAloneServiceZipfile\\Model_runs\\model_cursus_2023-05-06T10-08-54_tn-krimperwaard\"\n",
    "output_path = os.path.join(model_path, 'dflowfm\\output')\n",
    "plot_settings = PlotSettingsBreach(output_path)\n",
    "plot_settings.display_widgets()\n",
    "\n"
   ]
  }
 ],
 "metadata": {
  "kernelspec": {
   "display_name": "Python 3 (ipykernel)",
   "language": "python",
   "name": "python3"
  },
  "language_info": {
   "codemirror_mode": {
    "name": "ipython",
    "version": 3
   },
   "file_extension": ".py",
   "mimetype": "text/x-python",
   "name": "python",
   "nbconvert_exporter": "python",
   "pygments_lexer": "ipython3",
   "version": "3.10.10"
  }
 },
 "nbformat": 4,
 "nbformat_minor": 5
}
