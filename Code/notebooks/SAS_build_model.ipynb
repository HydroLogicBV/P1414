{
 "cells": [
  {
   "cell_type": "markdown",
   "id": "b8dc7bb0",
   "metadata": {},
   "source": [
    "# ROI Modelbouw"
   ]
  },
  {
   "cell_type": "markdown",
   "id": "38a90c8a",
   "metadata": {},
   "source": [
    "#### Imports\n"
   ]
  },
  {
   "cell_type": "code",
   "execution_count": 1,
   "id": "257fcf15",
   "metadata": {},
   "outputs": [
    {
     "name": "stderr",
     "output_type": "stream",
     "text": [
      "c:\\tools\\miniconda3\\envs\\PythonVZMBakjesmodel\\envs\\P1414_v2\\lib\\site-packages\\geopandas\\_compat.py:123: UserWarning: The Shapely GEOS version (3.11.1-CAPI-1.17.1) is incompatible with the GEOS version PyGEOS was compiled with (3.10.4-CAPI-1.16.2). Conversions between both will be slow.\n",
      "  warnings.warn(\n"
     ]
    }
   ],
   "source": [
    "import sys\n",
    "import os\n",
    "\n",
    "# voeg hier de locatie van de ROI code toe:\n",
    "folder_code = \"C:\\Work\\Projects\\P24050_ROI_voor_ROR\\GitHub\\P1414\"\n",
    "\n",
    "# De juiste mappen worden automatisch toegevoegd\n",
    "sys.path.append(folder_code + \"\\Code\")\n",
    "sys.path.append(folder_code + \"\\HYDROLIB_adapted\\hydrolib\")\n",
    "sys.path.append(folder_code + \"\\HYDROLIB_adapted\")\n",
    "\n",
    "from data_structures.dhydro_data import DHydroData"
   ]
  },
  {
   "cell_type": "markdown",
   "id": "d481ccc2",
   "metadata": {},
   "source": [
    "# Opzet notebook\n",
    "\n",
    "Met deze notebook kunnen verschillende ROI modellen worden opgebouwd. Het notebook is opgebouwd in 3 apart delen, die los van elkaar kunnen worden gedraaid. In de basis faciliteren deze onderdelen het opbouwen van een geopackage in het juiste format vanuit GIS-data, het combineren van verschillende bestaande geopackages tot één gecombineerd geopackage, en het opbouwen van een D-HYDRO model vanuit een geopackage.\n",
    "\n",
    "Voordat deze stappen kunnen worden doorlopen, is het van belang onderstaand een aantal paden en verwijzingen te definiëren.\n"
   ]
  },
  {
   "cell_type": "code",
   "execution_count": 2,
   "id": "ac9f7fb2",
   "metadata": {},
   "outputs": [],
   "source": [
    "# voeg hier de locatie van de GIS input folder toe. Let op: dit is de map waar de map GIS in staat!\n",
    "GIS_folder = r\"P:\\HL-P24050\\05_Analysis\\01_GIS\\03_Complete_GIS_database\"\n",
    "os.environ['GIS_folder_path'] = GIS_folder\n",
    "\n",
    "# voeg hier de locatie toe waar de uiteindelijke modellen worden weggeschreven:\n",
    "output_folder = r\"C:\\Werk\\Projecten\\P1414_ROI\\Cursus\\OutputModellen\"\n"
   ]
  },
  {
   "cell_type": "markdown",
   "id": "9b2cdb21",
   "metadata": {},
   "source": [
    "### Opties voor modelbouw\n",
    "Dit notebook is opgebouwd uit 3 aparte onderdelen:\n",
    "\n",
    "#### 1. Geopackage opbouwen vanuit leggerdata\n",
    "Dit onderdeel faciliteert het opbouwen van een geopackage op basis van ruwe GIS data. Afhankelijk van de toepassing kan hier een geopackage voor 1 specifiek gebied worden opgebouwd, of gelijk geodata worden gecombineerd.\n",
    "\n",
    "#### 2. Geopackage opbouwen vanuit afzonderlijke geopackages\n",
    "Dit onderdeel faciliteert het opbouwen van een gecombineerde geopackage, waarmee een model kan worden opgebouwd. Hiermee kan bijvoorbeeld eenvoudig een geopackage worden opgebouwd waar maar een subset van de data wordt meegenomen.\n",
    "\n",
    "#### 3. Model bouwen vanuit een geopackage\n",
    "Dit onderdeel faciliteert het opbouwen van een model vanuit één geopackage. Op basis van een apart configuratiebestand worden de instellingen voor de modelbouw hierop toegepast. \n",
    "\n",
    "**Aanroepen onderdelen**\n",
    "\n",
    "De verschillende onderdelen in dit notebook kunnen afzonderlijk van elkaar worden aangeroepen en gedraaid. Let hierbij wel op dat dit in de juiste volgorde gebeurt."
   ]
  },
  {
   "cell_type": "markdown",
   "id": "1d363376",
   "metadata": {},
   "source": [
    "___\n",
    "___\n",
    "\n",
    "### 1. Geopackage opbouwen vanuit de leggerdata\n",
    "De omzetting van leggerdata naar een HyDAMO compatible geopackage gebeurt aan de hand van config bestanden. In deze bestanden staan de paden naar de juiste databestanden vermeld. Daarnaast worden per dataset afzonderlijk de bestaande attributen gematcht aan de voor HyDAMO benodige attributen. \n",
    "\n",
    "Naast de config bestanden voor de afzonderlijke datasets is de _config_dhydro_ van belang. Hierin worden de juiste databestanden voor de opbouw van een 2D grid gespecificeerd (AHN, ruwheid, de extent van het grid) en kunnen een aantal DHYDRO specificaties worden opgegeven.\n",
    "\n",
    "In het config bestand _defaults_ worden alle default waarden gespecificeerd voor het geval de leggerdata daar niet in voorziet. Al deze config bestanden kunnen in code editors of tekst editors (Notepad++, kladblok, etc.) aangepast worden. \n",
    "\n",
    "Vul in onderstaand codeblok de juiste config bestanden in waarvan je de geodata wil samenvoegen in een geopackage. De _snapdist_ is in meters, en geeft de maximale afstand aan waarbij watergangen binnen een dataset aan elkaar worden gesnapt. Deze waarde verschilt per config bestand, omdat de achterliggende geodata niet altijd even precies aansluit. \n",
    "\n",
    "***Tip:*** Mocht je bepaalde databases niet willen opnemen in het geopackage, comment deze regels weg met een '#'"
   ]
  },
  {
   "cell_type": "code",
   "execution_count": 3,
   "id": "e68cdd7c",
   "metadata": {},
   "outputs": [],
   "source": [
    "# Lijst met config bestanden\n",
    "# Config bestanden die niet meegenomen dienen\n",
    "\n",
    "# De snap afstanden (snap_dist) zijn van belang voor het aan elkaar koppelen van verschillende watergangen\n",
    "config_list = [\n",
    "    # {'config': r\"ark_nzk_config\",               'snap_dist': 10},\n",
    "    # {'config': r\"rijnmaasmonding_open_config\",  'snap_dist': 10},\n",
    "    # {'config': r\"rijntakken_config\",            'snap_dist': 10},\n",
    "    # {'config': r\"noordzee_config\",              'snap_dist': 200},\n",
    "    # {'config': r\"markermeer_config\",            'snap_dist': 10},\n",
    "    # {'config': r\"hhsk_config\",                  'snap_dist': 10},\n",
    "    # {'config': r\"hdsr_config\",                  'snap_dist': 20},\n",
    "    # {'config': r\"hhd_config\",                   'snap_dist': 10},\n",
    "    # {'config': r\"hhr_config\",                   'snap_dist': 10},\n",
    "    # {'config': r\"wagv_config\",                  'snap_dist': 10},\n",
    "    # {'config': r\"ontbrekende_stuwen_config\",    'snap_dist': 10},\n",
    "    # {'config': r\"randvoorwaarden_config\",       'snap_dist': 0},\n",
    "    {'config': r\"tunnel_config\",                'snap_dist': 1},\n",
    "    # {'config': r\"underpass_config\",             'snap_dist': 1},\n",
    "]\n",
    "\n",
    "# Naam van model config\n",
    "config_dhydro = r\"combined_WBD_config\"\n",
    "defaults = r\"defaults\"\n",
    "\n",
    "# Naam van het resulterende geopackage\n",
    "gpkg_file = GIS_folder + r\"\\GIS\\HYDAMO\\Tunnel_test.gpkg\""
   ]
  },
  {
   "cell_type": "markdown",
   "id": "47fb4a87",
   "metadata": {},
   "source": [
    "Run het onderstaande codeblok om de config bestanden in te lezen en om te zetten naar een HYDAMO geopackage."
   ]
  },
  {
   "cell_type": "code",
   "execution_count": 5,
   "id": "0e302e9d",
   "metadata": {},
   "outputs": [
    {
     "name": "stdout",
     "output_type": "stream",
     "text": [
      " ----- Working on config: Tunnel -----\n",
      "137 Number of np_gdf after mapping\n",
      "137 Number of np_gdf after filling\n",
      "Profile af625ee1-d905-4c1d-a583-66f2ff18aaa4 on branch tunn_np_105522309 inverted. Bedlevel: 2.940771818161011, Insteekhoogte: 2 (default). Insteekhoogte set to 2 m above bedlevel\n",
      "Profile 9ca3e74a-9eb5-45c4-abd6-6335f0c5aa5c on branch tunn_np_118567834 inverted. Bedlevel: 6.823760032653809, Insteekhoogte: 2 (default). Insteekhoogte set to 2 m above bedlevel\n",
      "Profile aefefa67-f879-42ce-a23d-eb622c6fc893 on branch tunn_np_105526049 inverted. Bedlevel: 6.928109169006348, Insteekhoogte: 2 (default). Insteekhoogte set to 2 m above bedlevel\n",
      "Profile 1028e191-9ea7-4f52-b0d2-025fc1736c14 on branch tunn_np_105529931 inverted. Bedlevel: 3.35409688949585, Insteekhoogte: 2 (default). Insteekhoogte set to 2 m above bedlevel\n",
      "Profile eaacc13d-8787-44a1-978d-b02ef0edc6ec on branch tunn_np_105521212 inverted. Bedlevel: 7.56669282913208, Insteekhoogte: 2 (default). Insteekhoogte set to 2 m above bedlevel\n",
      "Profile 685d55dc-0a17-4b48-a965-35dcfb2aa4f3 on branch tunn_np_105500232 inverted. Bedlevel: 6.087039947509766, Insteekhoogte: 2 (default). Insteekhoogte set to 2 m above bedlevel\n",
      "Profile fed2c5b9-b98c-4d29-b423-2495039f652b on branch tunn_np_128104920 inverted. Bedlevel: 3.901469945907593, Insteekhoogte: 2 (default). Insteekhoogte set to 2 m above bedlevel\n",
      "Profile feb5e3a0-89cf-468b-9eed-ab0c7b349a5b on branch tunn_np_125380383 inverted. Bedlevel: 4.3443284034729, Insteekhoogte: 2 (default). Insteekhoogte set to 2 m above bedlevel\n",
      "Profile 5e8d5394-42aa-477e-b746-1e436f9939d9 on branch tunn_np_128104918 inverted. Bedlevel: 5.144934177398682, Insteekhoogte: 2 (default). Insteekhoogte set to 2 m above bedlevel\n",
      "Profile 1a935bc0-04fe-43d2-9e9e-e8479edcfdb2 on branch tunn_np_125894385 inverted. Bedlevel: 2.708092451095581, Insteekhoogte: 2 (default). Insteekhoogte set to 2 m above bedlevel\n",
      "Profile e651eb02-9c87-466a-a1d6-27f2407afe92 on branch tunn_np_126412168 inverted. Bedlevel: 2.204257965087891, Insteekhoogte: 2 (default). Insteekhoogte set to 2 m above bedlevel\n",
      "Profile b8630bbd-97df-4fed-b440-547b05a4d631 on branch tunn_np_124633898 inverted. Bedlevel: 2.142246961593628, Insteekhoogte: 2 (default). Insteekhoogte set to 2 m above bedlevel\n",
      "Profile 9c4ab609-54cb-4ae5-b2f3-3a2fff7c1a79 on branch tunn_np_105516590 inverted. Bedlevel: 3.825246095657349, Insteekhoogte: 2 (default). Insteekhoogte set to 2 m above bedlevel\n",
      "Profile 2ca90334-36ed-4a14-a258-7cf31330cd23 on branch tunn_np_105516359 inverted. Bedlevel: 2.853606939315796, Insteekhoogte: 2 (default). Insteekhoogte set to 2 m above bedlevel\n",
      "Profile ea30a3e9-cfc6-4d9a-a7d0-5f32853ca06c on branch tunn_np_131500314 inverted. Bedlevel: 2.682991027832031, Insteekhoogte: 2 (default). Insteekhoogte set to 2 m above bedlevel\n",
      "Profile c5628d5c-26cf-4cb4-b82f-e8ea700d279d on branch tunn_np_131500414 inverted. Bedlevel: 2.857685804367065, Insteekhoogte: 2 (default). Insteekhoogte set to 2 m above bedlevel\n",
      "Profile 91c8abd8-a1b6-4137-a676-586c15a60349 on branch tunn_np_131500413 inverted. Bedlevel: 3.309662580490112, Insteekhoogte: 2 (default). Insteekhoogte set to 2 m above bedlevel\n",
      "Profile 51fbf80f-7aea-4d8b-877d-f704fb126acf on branch tunn_np_131500373 inverted. Bedlevel: 2.967288017272949, Insteekhoogte: 2 (default). Insteekhoogte set to 2 m above bedlevel\n",
      "Profile 5c2d9a1f-c921-44ad-bf3a-44604983d2b7 on branch tunn_np_131500372 inverted. Bedlevel: 3.618093967437744, Insteekhoogte: 2 (default). Insteekhoogte set to 2 m above bedlevel\n",
      "Profile b6a88f4c-b28c-4ac0-bc97-b357c1130526 on branch tunn_np_126875278 inverted. Bedlevel: 8.527149200439453, Insteekhoogte: 2 (default). Insteekhoogte set to 2 m above bedlevel\n",
      "Profile 4e285e20-6533-49ac-bf53-a0342e83eefc on branch tunn_np_126874964 inverted. Bedlevel: 8.38650894165039, Insteekhoogte: 2 (default). Insteekhoogte set to 2 m above bedlevel\n",
      "Profile 75473b47-b460-4bc5-a70c-ec147af4be58 on branch tunn_np_130152746 inverted. Bedlevel: 2.748960018157959, Insteekhoogte: 2 (default). Insteekhoogte set to 2 m above bedlevel\n",
      "Profile 9a0efbf1-7680-4b10-99ad-b4d2bd5fe3fb on branch tunn_np_129885133 inverted. Bedlevel: 4.716328144073486, Insteekhoogte: 2 (default). Insteekhoogte set to 2 m above bedlevel\n",
      "Profile 03d9adc8-9d01-457d-bf67-9819103de871 on branch tunn_np_129885110 inverted. Bedlevel: 4.659177780151367, Insteekhoogte: 2 (default). Insteekhoogte set to 2 m above bedlevel\n",
      "Profile 15a5c0b7-f7d4-4eab-b431-8902f06c892c on branch tunn_np_126875167 inverted. Bedlevel: 8.460305213928223, Insteekhoogte: 2 (default). Insteekhoogte set to 2 m above bedlevel\n",
      "Profile a16a9159-f7d8-4f62-bf40-38b916400e4c on branch tunn_np_126875279 inverted. Bedlevel: 8.53456974029541, Insteekhoogte: 2 (default). Insteekhoogte set to 2 m above bedlevel\n",
      "Profile 6865872f-42b3-4c01-ac29-b6bdf4ece0c2 on branch tunn_np_131500400 inverted. Bedlevel: 3.668623924255371, Insteekhoogte: 2 (default). Insteekhoogte set to 2 m above bedlevel\n",
      "no profile for branch tunn_np_ef5175e6\n",
      "136 Number of profile lines\n",
      "Created duiker data\n",
      "Added default peil\n",
      "Clipping structures with a buffer of 5 meter\n",
      "Clipped 1/6 features. For duiker: 46/134 objects left. Dropped 88\n",
      "Clipped 3/6 features. For profiellijn: 136/136 objects left. Dropped 0\n"
     ]
    },
    {
     "name": "stderr",
     "output_type": "stream",
     "text": [
      "    profielpunt progress: 100%|██████████| 136/136 [00:00<00:00, 263.94 rows/s]\n"
     ]
    },
    {
     "name": "stdout",
     "output_type": "stream",
     "text": [
      "Clipped 4/6 features: profielpunt\n",
      "Clipped 6/6 features: waterloop\n"
     ]
    }
   ],
   "source": [
    "dhd = DHydroData()\n",
    "for ix, config in enumerate(config_list):\n",
    "    \n",
    "    dhd.hydamo_from_raw_data(\n",
    "        defaults=defaults, config=config['config'], branch_snap_dist=config['snap_dist'], GIS_folder=GIS_folder, dhydro_config=config_dhydro\n",
    "    )\n",
    "    try:\n",
    "        dhd.fixed_weirs_from_raw_data(config=config['config'], defaults=defaults)\n",
    "    except AttributeError:\n",
    "        pass\n",
    "\n",
    "dhd.clip_structures_by_branches(buffer=5)\n",
    "dhd.hydamo_to_gpkg(output_gpkg=gpkg_file)"
   ]
  },
  {
   "cell_type": "markdown",
   "id": "338d3fc9",
   "metadata": {},
   "source": [
    "___\n",
    "___\n",
    "\n",
    "### 2. Gecombineerd geopackage opbouwen vanuit afzonderlijke geopackages\n",
    "In onderstaand codeblok kunnen reeds bestaande geopackages worden gecombineerd tot een gezamenlijk geopacke. Onderdeel hiervan is ook dat hoogtelijnen uit (spoor)wegen, reliëf en noordzeekeringen worden toegevoegd.\n",
    "\n",
    "De _snapdist_ achter de geopackage is de afstand die gehanteerd wordt om te bepalen of de uiteinden van verschillende geopackages aan elkaar worden gesnapt. Hierbij geldt dat elk nieuw geopackage wordt toegevoegd aan het reeds bestaande netwerk."
   ]
  },
  {
   "cell_type": "code",
   "execution_count": 4,
   "id": "0cbeb908",
   "metadata": {},
   "outputs": [],
   "source": [
    "\n",
    "# Geef de naam op van het nieuwe geopackage\n",
    "gpkg_file = GIS_folder + r\"\\GIS\\HYDAMO\\Combined_50m_11_februari.gpkg\"\n",
    "\n",
    "# Of selecteer welke datasets gecombineerd worden in een nieuwe geopackage met bovenstaande naam\n",
    "# De snap afstanden (snap_dist) zijn van belang voor het aan elkaar koppelen van verschillende databronnen\n",
    "gpkgs_list = [\n",
    "    {'gpkg_file': GIS_folder + r\"\\GIS\\HYDAMO\\Buitenwater_11_februari.gpkg\",              'snap_dist': 10},\n",
    "    {'gpkg_file': GIS_folder + r\"\\GIS\\HYDAMO\\HHSK_11_februari.gpkg\",                     'snap_dist': 10},\n",
    "    {'gpkg_file': GIS_folder + r\"\\GIS\\HYDAMO\\HDSR_11_februari.gpkg\",                     'snap_dist': 35},\n",
    "    {'gpkg_file': GIS_folder + r\"\\GIS\\HYDAMO\\HHD_15_januari.gpkg\",                       'snap_dist': 10},\n",
    "    {'gpkg_file': GIS_folder + r\"\\GIS\\HYDAMO\\HHR_11_februari.gpkg\",                      'snap_dist': 10},\n",
    "    {'gpkg_file': GIS_folder + r\"\\GIS\\HYDAMO\\WAGV_14_januari.gpkg\",                      'snap_dist': 10},\n",
    "    {'gpkg_file': GIS_folder + r\"\\GIS\\HYDAMO\\Tunnels_50m_10_januari.gpkg\",               'snap_dist': 0},\n",
    "]\n",
    "\n",
    "# Specificeer de model config en de default config\n",
    "config_dhydro = r\"combined_WBD_config\"\n",
    "defaults = r\"defaults\""
   ]
  },
  {
   "cell_type": "markdown",
   "id": "9512aeff",
   "metadata": {},
   "source": [
    "Run onderstaand codeblok om het geopackage te creëren. "
   ]
  },
  {
   "cell_type": "code",
   "execution_count": null,
   "id": "72cb27c0",
   "metadata": {},
   "outputs": [],
   "source": [
    "dhd = DHydroData()\n",
    "for ix, gpkg in enumerate(gpkgs_list):\n",
    "    print(\"\\n\" + gpkg['gpkg_file'])\n",
    "\n",
    "    # 2. load data\n",
    "    dhd.hydamo_from_gpkg(gpkg['gpkg_file'], branch_snap_dist=gpkg['snap_dist'])\n",
    "\n",
    "# Voeg wegen, reliëf en noordzeekeringen toe aan het gecombineerde geopackage\n",
    "dhd.fixed_weirs_from_raw_data(config=\"wegen_config\", defaults=defaults)\n",
    "dhd.fixed_weirs_from_raw_data(config=\"relief_config\", defaults=defaults, min_length = 50)\n",
    "dhd.fixed_weirs_from_raw_data(config=\"noordzeekeringen_config\", defaults=defaults)\n",
    "\n",
    "dhd.hydamo_to_gpkg(output_gpkg=gpkg_file)\n",
    "print('Combined all configs into a new geopackage: '+gpkg_file)"
   ]
  },
  {
   "cell_type": "markdown",
   "id": "40860924",
   "metadata": {},
   "source": [
    "___\n",
    "___\n",
    "### 3. Gecombineerd geopackage naar DHYDRO model\n",
    "\n",
    "Vanuit het gecombineerde geopackage kan een DHYDRO model worden opgebouwd. \n",
    "\n",
    "Als een 2D grid gewenst is, is er de mogelijkheid om een reeds bestaand 2D grid in te laden. Het genereren van een 2D grid kan erg lang duren (2,5 uur voor 50 m resolutie), waardoor een bestaand grid inladen significant sneller werkt. \n",
    "\n",
    "In onderstaand blok specificeer je de bestaande 2D grids (als beschikbaar) en het geopackage dat als basis van het model dient. Specificeer daarnaast de naam van het op te bouwen model."
   ]
  },
  {
   "cell_type": "code",
   "execution_count": 5,
   "id": "04a27e7c",
   "metadata": {},
   "outputs": [],
   "source": [
    "# Model name\n",
    "output_folder = output_folder + r\"\\Combined_V3.15_50m\"\n",
    "\n",
    "# Geopackage file to build the model from\n",
    "gpkg_file = GIS_folder + r\"\\GIS\\HYDAMO\\Combined_50m_11_februari.gpkg\"\n",
    "\n",
    "# Existing meshes available\n",
    "existing_meshes = {\n",
    "    '500m': r\"P:\\HL-P24050\\05_Analysis\\02_Model\\HHSK_500m_02_januari\\dflowfm\\network.nc\",\n",
    "    '100m': r\"P:\\HL-P24050\\05_Analysis\\02_Model\\Combined_V3.4_100m\\dflowfm\\network.nc\",\n",
    "    '50m': r\"P:\\HL-P24050\\05_Analysis\\02_Model\\Combined_V3.3_50m\\dflowfm\\network.nc\",\n",
    "    'None': None\n",
    "}\n",
    "\n",
    "# Specificeer het config bestand met de model instellingen\n",
    "config_dhydro = r\"combined_WBD_config\""
   ]
  },
  {
   "cell_type": "markdown",
   "id": "c5c27564",
   "metadata": {},
   "source": [
    "Run onderstaand codeblok om het model op te bouwen met het aangewezen geopackage.\n",
    "\n",
    "***NB***: Vergeet niet om het juiste 2D grid te specificeren, als dat gewenst is!"
   ]
  },
  {
   "cell_type": "code",
   "execution_count": null,
   "id": "f501c93c",
   "metadata": {},
   "outputs": [],
   "source": [
    "# 1. initialize an instance of DHydamoData\n",
    "dhd = DHydroData()\n",
    "\n",
    "# 2. load data\n",
    "dhd.hydamo_from_gpkg(gpkg_file)\n",
    "\n",
    "# remove brug aas not enough information is supplied\n",
    "del dhd.ddm.brug\n",
    "if \"brug\" in dhd.features:\n",
    "    dhd.features.remove(\"brug\")\n",
    "\n",
    "# Set all the pumps to have a capacity of 0\n",
    "if \"gemaal\" in dhd.features:\n",
    "    dhd.ddm.pomp[\"maximalecapaciteit\"] = 0\n",
    "\n",
    "# 3. save as dhydro model\n",
    "dhd.to_dhydro(\n",
    "    config=config_dhydro,\n",
    "    load_mesh2d_path = existing_meshes['50m'], # Specify the right mesh\n",
    "    output_folder=output_folder\n",
    "    )"
   ]
  },
  {
   "cell_type": "markdown",
   "id": "f9a36477",
   "metadata": {},
   "source": [
    "##### Einde modelbouw\n",
    "Met deze laatste stap is de modelbouw afgerond. Kopiëer het model naar de Model_database folder om het met de SAS_run_model door te kunnen rekenen."
   ]
  }
 ],
 "metadata": {
  "interpreter": {
   "hash": "0a08a4fff02bf279a2421223d0cd8725629e900ed53d71dc6457659448788627"
  },
  "kernelspec": {
   "display_name": "Python 3.10.8",
   "language": "python",
   "name": "python3"
  },
  "language_info": {
   "codemirror_mode": {
    "name": "ipython",
    "version": 3
   },
   "file_extension": ".py",
   "mimetype": "text/x-python",
   "name": "python",
   "nbconvert_exporter": "python",
   "pygments_lexer": "ipython3",
   "version": "3.10.8"
  }
 },
 "nbformat": 4,
 "nbformat_minor": 5
}
