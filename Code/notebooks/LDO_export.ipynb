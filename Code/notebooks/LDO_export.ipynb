{
 "cells": [
  {
   "cell_type": "markdown",
   "id": "f7823f14",
   "metadata": {},
   "source": [
    "Met dit notebook kan de output van D-HYDRO ROI simulaties worden omgezet naar de bestanden die nodig zijn voor het LDO.\n",
    "\n",
    "Dit notebook heeft 2 opties:\n",
    "1. output genereren voor één losse simulatie. In dit geval wordt de LDO data in het output mapje geplaatst.\n",
    "2. output genereren voor meerdere simulaties. Hiervoor moeten de simulaties in één map staan. De LDO output komt in één map te staan die de gebruiker kan opgeven in het notebook.\n"
   ]
  },
  {
   "cell_type": "markdown",
   "id": "230ba0f2",
   "metadata": {},
   "source": [
    "# Imports and general input\n",
    "\n",
    "1. Verander **git_dir** in de map op jouw computer met de code. <br>\n",
    "2. Run vervolgens de cell door met de **Run** knop bovenin het scherm of door **ctrl+enter** te drukken. <br>"
   ]
  },
  {
   "cell_type": "code",
   "execution_count": 2,
   "id": "7b8ad421",
   "metadata": {},
   "outputs": [
    {
     "name": "stdout",
     "output_type": "stream",
     "text": [
      "The autoreload extension is already loaded. To reload it, use:\n",
      "  %reload_ext autoreload\n"
     ]
    }
   ],
   "source": [
    "import os\n",
    "import sys\n",
    "import shutil\n",
    "import pandas as pd\n",
    "%load_ext autoreload\n",
    "%autoreload 2\n",
    "# insert the directory where you extracted the zip file here:\n",
    "git_dir = r\"C:\\Work\\Projects\\HL-P24050_ROI\\05_Analysis\\P1414\"\n",
    "\n",
    "sys.path.append(os.path.join(git_dir, 'Code'))\n",
    "sys.path.append(os.path.join(git_dir, 'HydroLogic_Inundation_toolbox'))\n",
    "sys.path.append(os.path.join(git_dir, 'HydroLogic_Inundation_toolbox/Readers'))\n",
    "from notebooks.LDO_export_scripts.ldo_metadata import MetadataGenerator\n",
    "from notebooks.LDO_export_scripts.dhydro2tif import DhydroToTif\n",
    "#================== File locations within model directory ==================#\n",
    "\n",
    "file_locations = {\n",
    "    'fm_dir': \"dflowfm\",\n",
    "    'output_dir': \"output\",\n",
    "    'mdu_file': \"DFM.mdu\",\n",
    "    'map_file': \"map.nc\",\n",
    "    'his_file': \"DFM_his.nc\",\n",
    "    'structures_file': \"structures.ini\",\n",
    "    'dia_file': \"DFM.dia\",\n",
    "}\n",
    "\n",
    "#===========================================================================#"
   ]
  },
  {
   "cell_type": "markdown",
   "id": "631cb1f0",
   "metadata": {},
   "source": [
    "# Option 1: generate LDO output data for a single model"
   ]
  },
  {
   "cell_type": "markdown",
   "id": "9a378f35",
   "metadata": {},
   "source": [
    "## 1.1. Generate metadata\n",
    "Vul de map waarin je model staat in in de variabele **model_dir**. Dit is de map waarin de dflowfm map staat."
   ]
  },
  {
   "cell_type": "code",
   "execution_count": null,
   "id": "c21839e1",
   "metadata": {},
   "outputs": [],
   "source": [
    "model_dir = r\"C:\\Work\\Projects\\HL-P24050_ROI\\05_Analysis\\SAS_workdir\\run_model\\test_dambreach\\nothing\"\n",
    "\n",
    "metadatagenerator = MetadataGenerator(model_dir, file_locations)\n",
    "df = metadatagenerator.execute()\n",
    "metadatagenerator.write(write_as_excel=True)\n",
    "\n",
    "clean_df_for_notebook =  df.loc[:, ~df.iloc[-1].isna()]\n",
    "clean_df_for_notebook"
   ]
  },
  {
   "cell_type": "markdown",
   "id": "d7f0c287",
   "metadata": {},
   "source": [
    "## 1.2. Generate TIF files"
   ]
  },
  {
   "cell_type": "code",
   "execution_count": null,
   "id": "cb8b9e42",
   "metadata": {},
   "outputs": [],
   "source": [
    "t_breach = metadatagenerator.t0\n",
    "tif_generator = DhydroToTif(model_dir, file_locations, resolution=None)"
   ]
  },
  {
   "cell_type": "code",
   "execution_count": null,
   "id": "4cdfd3a8",
   "metadata": {},
   "outputs": [],
   "source": [
    "tif_generator.create_waterdepth_animation(t_breach) \n",
    "tif_generator.create_maximum_waterdepth_tiff()\n",
    "tif_generator.create_maximum_velocity_tiff()\n",
    "tif_generator.create_bathymetry_tiff()"
   ]
  },
  {
   "cell_type": "markdown",
   "id": "00d92cd6",
   "metadata": {},
   "source": [
    "# Option 2: Generate LDO output for multiple models\n",
    "1. Geef met de variabele **directory_with_models** de map op waarin de doorgerekende modellen staan.\n",
    "2. Geef met de variabele **output_dir** de map op waarin de LDO output moet worden weg geschreven.\n",
    "Per simulatie wordt een map aangemaakt met tif bestanden. De metadata wordt naar één Excel bestand weg geschreven."
   ]
  },
  {
   "cell_type": "code",
   "execution_count": 4,
   "id": "6bc9dff4",
   "metadata": {},
   "outputs": [
    {
     "name": "stderr",
     "output_type": "stream",
     "text": [
      "INFO:notebooks.LDO_export_scripts.ldo_metadata:Succesfully wrote the LDO metadata to: C:\\Work\\Projects\\HL-P24050_ROI\\05_Analysis\\SAS_workdir\\run_model\\TMP_ldo_output\\ldo_metadata.xlsx\n"
     ]
    },
    {
     "name": "stdout",
     "output_type": "stream",
     "text": [
      "==============================\n",
      "Working on model: 'nothing'\n"
     ]
    },
    {
     "name": "stderr",
     "output_type": "stream",
     "text": [
      "INFO:notebooks.LDO_export_scripts.ldo_metadata:Succesfully wrote the LDO metadata to: C:\\Work\\Projects\\HL-P24050_ROI\\05_Analysis\\SAS_workdir\\run_model\\TMP_ldo_output\\ldo_metadata.xlsx\n"
     ]
    },
    {
     "name": "stdout",
     "output_type": "stream",
     "text": [
      "Output converted succesfully\n",
      "==============================\n",
      "Working on model: 'original'\n",
      "WARNING: Can not create LDO export data for model 'original', skipping this model. Can not create export data because of error message: The his file can not be found, expected it at C:\\Work\\Projects\\HL-P24050_ROI\\05_Analysis\\SAS_workdir\\run_model\\test_dambreach\\original\\dflowfm\\output\\DFM_his.nc\n",
      "==============================\n",
      "Working on model: 'test_ldo_export'\n"
     ]
    },
    {
     "name": "stderr",
     "output_type": "stream",
     "text": [
      "INFO:notebooks.LDO_export_scripts.ldo_metadata:Succesfully wrote the LDO metadata to: C:\\Work\\Projects\\HL-P24050_ROI\\05_Analysis\\SAS_workdir\\run_model\\TMP_ldo_output\\ldo_metadata.xlsx\n"
     ]
    },
    {
     "name": "stdout",
     "output_type": "stream",
     "text": [
      "Output converted succesfully\n",
      "==============================\n",
      "Working on model: 'upsteam_xy_downstream_xy_but_with_upstream_at_node'\n"
     ]
    },
    {
     "name": "stderr",
     "output_type": "stream",
     "text": [
      "INFO:notebooks.LDO_export_scripts.ldo_metadata:Succesfully wrote the LDO metadata to: C:\\Work\\Projects\\HL-P24050_ROI\\05_Analysis\\SAS_workdir\\run_model\\TMP_ldo_output\\ldo_metadata.xlsx\n"
     ]
    },
    {
     "name": "stdout",
     "output_type": "stream",
     "text": [
      "Output converted succesfully\n",
      "==============================\n",
      "Working on model: 'upstream_node_downstream_xy'\n"
     ]
    },
    {
     "name": "stderr",
     "output_type": "stream",
     "text": [
      "INFO:notebooks.LDO_export_scripts.ldo_metadata:Succesfully wrote the LDO metadata to: C:\\Work\\Projects\\HL-P24050_ROI\\05_Analysis\\SAS_workdir\\run_model\\TMP_ldo_output\\ldo_metadata.xlsx\n"
     ]
    },
    {
     "name": "stdout",
     "output_type": "stream",
     "text": [
      "Output converted succesfully\n",
      "==============================\n",
      "Working on model: 'upstream_nothing_downstream_xy'\n"
     ]
    },
    {
     "name": "stderr",
     "output_type": "stream",
     "text": [
      "INFO:notebooks.LDO_export_scripts.ldo_metadata:Succesfully wrote the LDO metadata to: C:\\Work\\Projects\\HL-P24050_ROI\\05_Analysis\\SAS_workdir\\run_model\\TMP_ldo_output\\ldo_metadata.xlsx\n"
     ]
    },
    {
     "name": "stdout",
     "output_type": "stream",
     "text": [
      "Output converted succesfully\n",
      "==============================\n",
      "Working on model: 'upstream_nothing_downstream_xy_but_with_x+500'\n"
     ]
    },
    {
     "name": "stderr",
     "output_type": "stream",
     "text": [
      "INFO:notebooks.LDO_export_scripts.ldo_metadata:Succesfully wrote the LDO metadata to: C:\\Work\\Projects\\HL-P24050_ROI\\05_Analysis\\SAS_workdir\\run_model\\TMP_ldo_output\\ldo_metadata.xlsx\n"
     ]
    },
    {
     "name": "stdout",
     "output_type": "stream",
     "text": [
      "Output converted succesfully\n",
      "==============================\n",
      "Working on model: 'upstream_nothing_downstream_xy_but_with_x-500'\n"
     ]
    },
    {
     "name": "stderr",
     "output_type": "stream",
     "text": [
      "INFO:notebooks.LDO_export_scripts.ldo_metadata:Succesfully wrote the LDO metadata to: C:\\Work\\Projects\\HL-P24050_ROI\\05_Analysis\\SAS_workdir\\run_model\\TMP_ldo_output\\ldo_metadata.xlsx\n"
     ]
    },
    {
     "name": "stdout",
     "output_type": "stream",
     "text": [
      "Output converted succesfully\n",
      "==============================\n",
      "Working on model: 'upstream_nothing_downstream_xy_but_with_y+500'\n"
     ]
    },
    {
     "name": "stderr",
     "output_type": "stream",
     "text": [
      "INFO:notebooks.LDO_export_scripts.ldo_metadata:Succesfully wrote the LDO metadata to: C:\\Work\\Projects\\HL-P24050_ROI\\05_Analysis\\SAS_workdir\\run_model\\TMP_ldo_output\\ldo_metadata.xlsx\n"
     ]
    },
    {
     "name": "stdout",
     "output_type": "stream",
     "text": [
      "Output converted succesfully\n",
      "==============================\n",
      "Working on model: 'upstream_nothing_downstream_xy_but_with_y-500'\n"
     ]
    },
    {
     "name": "stderr",
     "output_type": "stream",
     "text": [
      "INFO:notebooks.LDO_export_scripts.ldo_metadata:Succesfully wrote the LDO metadata to: C:\\Work\\Projects\\HL-P24050_ROI\\05_Analysis\\SAS_workdir\\run_model\\TMP_ldo_output\\ldo_metadata.xlsx\n"
     ]
    },
    {
     "name": "stdout",
     "output_type": "stream",
     "text": [
      "Output converted succesfully\n",
      "==============================\n",
      "Working on model: 'upstream_xy_downstream_xy'\n"
     ]
    },
    {
     "name": "stderr",
     "output_type": "stream",
     "text": [
      "INFO:notebooks.LDO_export_scripts.ldo_metadata:Succesfully wrote the LDO metadata to: C:\\Work\\Projects\\HL-P24050_ROI\\05_Analysis\\SAS_workdir\\run_model\\TMP_ldo_output\\ldo_metadata.xlsx\n"
     ]
    },
    {
     "name": "stdout",
     "output_type": "stream",
     "text": [
      "Output converted succesfully\n",
      "==============================\n",
      "Working on model: 'upstream_xy_downstream_xy_but_with_upstream_above_downstream_in_txt'\n",
      "Output converted succesfully\n"
     ]
    }
   ],
   "source": [
    "directory_with_models = r\"C:\\Work\\Projects\\HL-P24050_ROI\\05_Analysis\\SAS_workdir\\run_model\\test_dambreach\"\n",
    "output_dir = r\"C:\\Work\\Projects\\HL-P24050_ROI\\05_Analysis\\SAS_workdir\\run_model\\TMP_ldo_output\"\n",
    "\n",
    "df = pd.DataFrame()\n",
    "for model in os.listdir(directory_with_models):\n",
    "    print(\"=\"*30)\n",
    "    print(f\"Working on model: '{model}'\")\n",
    "    model_dir = os.path.join(directory_with_models, model)\n",
    "    \n",
    "    try:\n",
    "        metadatagenerator = MetadataGenerator(model_dir, file_locations, existing_df=df)\n",
    "        df_out = metadatagenerator.execute()\n",
    "        df = metadatagenerator.df_\n",
    "        metadatagenerator.write(\n",
    "            output_file=os.path.join(output_dir, 'ldo_metadata.xlsx'),\n",
    "            write_as_excel=True\n",
    "        )\n",
    "    except Exception as e:\n",
    "        print(f\"WARNING: Can not create LDO export data for model '{model}', skipping this model. Can not create export data because of error message: {e}\")\n",
    "        continue\n",
    "    \n",
    "    tif_output_dir = os.path.join(output_dir, model)\n",
    "    if os.path.exists(tif_output_dir) == False:\n",
    "        os.mkdir(tif_output_dir)\n",
    "        \n",
    "    tif_generator = DhydroToTif(model_dir, file_locations, resolution=None, silent=True)\n",
    "    \n",
    "    t_breach = metadatagenerator.t0\n",
    "    tif_generator.create_waterdepth_animation(\n",
    "        t_breach=t_breach,\n",
    "        output_dir=os.path.join(tif_output_dir, 'waterdepth_animation')\n",
    "    ) \n",
    "    tif_generator.create_maximum_waterdepth_tiff(\n",
    "        output_file=os.path.join(tif_output_dir, 'maximum-waterdepth.tiff')\n",
    "    )\n",
    "    tif_generator.create_maximum_velocity_tiff(\n",
    "        output_file=os.path.join(tif_output_dir, 'maximum-velocity.tiff')\n",
    "    )\n",
    "    tif_generator.create_bathymetry_tiff(\n",
    "        output_file=os.path.join(tif_output_dir, 'bathymetry.tiff')\n",
    "    )\n",
    "    \n",
    "    print(\"Output converted succesfully\")\n",
    "    \n",
    "\n",
    "\n",
    "    \n"
   ]
  }
 ],
 "metadata": {
  "kernelspec": {
   "display_name": "Python 3 (ipykernel)",
   "language": "python",
   "name": "python3"
  },
  "language_info": {
   "codemirror_mode": {
    "name": "ipython",
    "version": 3
   },
   "file_extension": ".py",
   "mimetype": "text/x-python",
   "name": "python",
   "nbconvert_exporter": "python",
   "pygments_lexer": "ipython3",
   "version": "3.10.10"
  }
 },
 "nbformat": 4,
 "nbformat_minor": 5
}
